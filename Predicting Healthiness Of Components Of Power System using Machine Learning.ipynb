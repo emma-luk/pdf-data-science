{
 "cells": [
  {
   "cell_type": "markdown",
   "id": "ea8532a8",
   "metadata": {},
   "source": [
    "# Predicting Healthiness Of Components Of Power System using Machine Learning\n"
   ]
  },
  {
   "cell_type": "markdown",
   "id": "6374ca52",
   "metadata": {},
   "source": [
    "\n",
    "Emma Luk MSc(Computer Science, Bristol) MSc(Data Science, London) Certified Scrum Master® MIET\n",
    "Data Scientist\n",
    "BAE Systems Maritime Services\n",
    "\n",
    "\n",
    "T: +44(0) 3300 486375  |  M: +44 (0)7974 522 805 \n",
    "E: emma.luk@baesystems.com \n",
    " \n"
   ]
  },
  {
   "cell_type": "markdown",
   "id": "44c733f1",
   "metadata": {},
   "source": [
    "## Agile Data Science Capability Framework"
   ]
  },
  {
   "cell_type": "markdown",
   "id": "d69a9658",
   "metadata": {},
   "source": [
    "### Data-Driven Scrum™ (DDS)\n",
    "\n",
    "It is an agile framework specifically designed for data science teams. In short, DDS aims to improve a data science team’s collaboration and communication.\n",
    "\n",
    "The Data Science Process Alliance created Data Driven Scrum to address the fact that other well-known agile approaches (such as often Scrum and Kanban) often fail to accommodate the unique needs of data science projects."
   ]
  },
  {
   "cell_type": "markdown",
   "id": "398288bd",
   "metadata": {},
   "source": [
    "### DDS Roles\n",
    "\n",
    "Similar to Scrum, there are three key roles in DDS:\n",
    "\n",
    "- Product Owner: The Product Owner in DDS is the empowered central point of product leadership (“voice of the client”) – the person who decides on the Product Increments, prioritises which features and functionality to build, the order in which to build them, and what aspects of them to observe and analyse. In short, the Product Owner owns the Backlog and prioritises its Items, ensuring that each Item is clearly defined, and that the upcoming work and priorities of the team are visible and transparent.\n",
    "\n",
    "- Process Expert: The Process Expert acts as a coach, facilitator, and impediment remover. The Process Expert also helps the team understand and embrace the DDS values, principles, and practices to aid the organisation in obtaining exceptional results from applying DDS.\n",
    "\n",
    "- DDS Team Members: Similar to Scrum, each DDS team is a group of typically three to nine people. The DDS team is comprised of a cross-functional collection of DDS Team Members (ex. Data Scientists, Software Engineers, …) that have all the skills needed to create artifacts (ex. models) to answer the questions / experiments (i.e., to design, build, test and deploy the desired product). Both the Product Owner and the Process Expert are part of the DDS Team and may contribute to creating, observing and analysing throughout an iteration. The team self-organises to determine the best way to accomplish the goal defined by the Product Owner."
   ]
  },
  {
   "cell_type": "markdown",
   "id": "259260f2",
   "metadata": {},
   "source": [
    "### Research Question: Predicting Healthiness Of Components Of Power System using Machine Learning\n",
    "\n",
    "- What kinds of trends are in the data?\n",
    "- What kinds of predictions are possible?\n",
    "- What conclusions can we make?"
   ]
  },
  {
   "cell_type": "markdown",
   "id": "b3fa390b",
   "metadata": {},
   "source": [
    "### import the basic libraries"
   ]
  },
  {
   "cell_type": "code",
   "execution_count": 18,
   "id": "cf23f2d8",
   "metadata": {},
   "outputs": [],
   "source": [
    "import numpy as np\n",
    "import pandas as pd\n",
    "import matplotlib as plt\n",
    "%matplotlib inline"
   ]
  },
  {
   "cell_type": "markdown",
   "id": "457dcabb",
   "metadata": {},
   "source": [
    "### convert our dataset into pandas dataframe"
   ]
  },
  {
   "cell_type": "code",
   "execution_count": 2,
   "id": "665a9729",
   "metadata": {},
   "outputs": [],
   "source": [
    "data = pd.read_csv('data1.csv')"
   ]
  },
  {
   "cell_type": "markdown",
   "id": "7b5ccf16",
   "metadata": {},
   "source": [
    "### Extract First and Last 10 rows of our dataset"
   ]
  },
  {
   "cell_type": "code",
   "execution_count": 3,
   "id": "bdbc0a71",
   "metadata": {},
   "outputs": [
    {
     "data": {
      "text/html": [
       "<div>\n",
       "<style scoped>\n",
       "    .dataframe tbody tr th:only-of-type {\n",
       "        vertical-align: middle;\n",
       "    }\n",
       "\n",
       "    .dataframe tbody tr th {\n",
       "        vertical-align: top;\n",
       "    }\n",
       "\n",
       "    .dataframe thead th {\n",
       "        text-align: right;\n",
       "    }\n",
       "</style>\n",
       "<table border=\"1\" class=\"dataframe\">\n",
       "  <thead>\n",
       "    <tr style=\"text-align: right;\">\n",
       "      <th></th>\n",
       "      <th>ComponentAge</th>\n",
       "      <th>MonthlyRunTime</th>\n",
       "      <th>Location</th>\n",
       "      <th>FlowRate</th>\n",
       "      <th>OPXVolume</th>\n",
       "      <th>MaxOutputRate</th>\n",
       "      <th>Sensor1</th>\n",
       "      <th>Sensor2</th>\n",
       "      <th>Sensor3</th>\n",
       "      <th>Sensor4</th>\n",
       "      <th>Sensor5</th>\n",
       "      <th>Sensor5.1</th>\n",
       "      <th>DaysSinceMaintenance</th>\n",
       "      <th>Target</th>\n",
       "    </tr>\n",
       "  </thead>\n",
       "  <tbody>\n",
       "    <tr>\n",
       "      <th>0</th>\n",
       "      <td>0.55</td>\n",
       "      <td>9.50</td>\n",
       "      <td>B</td>\n",
       "      <td>0.99740</td>\n",
       "      <td>NaN</td>\n",
       "      <td>32.0</td>\n",
       "      <td>10.0</td>\n",
       "      <td>1.90</td>\n",
       "      <td>0.58</td>\n",
       "      <td>3.13</td>\n",
       "      <td>0.22</td>\n",
       "      <td>0.080</td>\n",
       "      <td>9.0</td>\n",
       "      <td>0</td>\n",
       "    </tr>\n",
       "    <tr>\n",
       "      <th>1</th>\n",
       "      <td>0.32</td>\n",
       "      <td>12.70</td>\n",
       "      <td>A</td>\n",
       "      <td>0.99184</td>\n",
       "      <td>NaN</td>\n",
       "      <td>28.0</td>\n",
       "      <td>6.9</td>\n",
       "      <td>10.55</td>\n",
       "      <td>0.3</td>\n",
       "      <td>3.07</td>\n",
       "      <td>0.30</td>\n",
       "      <td>0.037</td>\n",
       "      <td>4.0</td>\n",
       "      <td>0</td>\n",
       "    </tr>\n",
       "    <tr>\n",
       "      <th>2</th>\n",
       "      <td>0.57</td>\n",
       "      <td>9.70</td>\n",
       "      <td>B</td>\n",
       "      <td>0.99743</td>\n",
       "      <td>NaN</td>\n",
       "      <td>86.0</td>\n",
       "      <td>7.2</td>\n",
       "      <td>2.30</td>\n",
       "      <td>0.66</td>\n",
       "      <td>3.53</td>\n",
       "      <td>0.03</td>\n",
       "      <td>0.078</td>\n",
       "      <td>16.0</td>\n",
       "      <td>0</td>\n",
       "    </tr>\n",
       "    <tr>\n",
       "      <th>3</th>\n",
       "      <td>0.50</td>\n",
       "      <td>9.50</td>\n",
       "      <td>B</td>\n",
       "      <td>0.99593</td>\n",
       "      <td>NaN</td>\n",
       "      <td>84.0</td>\n",
       "      <td>7.1</td>\n",
       "      <td>1.80</td>\n",
       "      <td>0.755</td>\n",
       "      <td>3.19</td>\n",
       "      <td>0.15</td>\n",
       "      <td>0.107</td>\n",
       "      <td>20.0</td>\n",
       "      <td>0</td>\n",
       "    </tr>\n",
       "    <tr>\n",
       "      <th>4</th>\n",
       "      <td>0.44</td>\n",
       "      <td>10.80</td>\n",
       "      <td>A</td>\n",
       "      <td>0.99280</td>\n",
       "      <td>NaN</td>\n",
       "      <td>127.0</td>\n",
       "      <td>7.0</td>\n",
       "      <td>4.90</td>\n",
       "      <td>0.29</td>\n",
       "      <td>3.17</td>\n",
       "      <td>0.37</td>\n",
       "      <td>0.034</td>\n",
       "      <td>26.0</td>\n",
       "      <td>0</td>\n",
       "    </tr>\n",
       "    <tr>\n",
       "      <th>5</th>\n",
       "      <td>0.41</td>\n",
       "      <td>10.60</td>\n",
       "      <td>A</td>\n",
       "      <td>0.99300</td>\n",
       "      <td>NaN</td>\n",
       "      <td>76.0</td>\n",
       "      <td>7.0</td>\n",
       "      <td>2.10</td>\n",
       "      <td>0.22</td>\n",
       "      <td>3.20</td>\n",
       "      <td>0.33</td>\n",
       "      <td>0.052</td>\n",
       "      <td>15.0</td>\n",
       "      <td>0</td>\n",
       "    </tr>\n",
       "    <tr>\n",
       "      <th>6</th>\n",
       "      <td>0.76</td>\n",
       "      <td>10.00</td>\n",
       "      <td>A</td>\n",
       "      <td>0.99660</td>\n",
       "      <td>NaN</td>\n",
       "      <td>110.0</td>\n",
       "      <td>7.7</td>\n",
       "      <td>7.70</td>\n",
       "      <td>0.39</td>\n",
       "      <td>3.33</td>\n",
       "      <td>0.49</td>\n",
       "      <td>0.036</td>\n",
       "      <td>11.0</td>\n",
       "      <td>0</td>\n",
       "    </tr>\n",
       "    <tr>\n",
       "      <th>7</th>\n",
       "      <td>0.50</td>\n",
       "      <td>9.55</td>\n",
       "      <td>A</td>\n",
       "      <td>0.99494</td>\n",
       "      <td>NaN</td>\n",
       "      <td>170.0</td>\n",
       "      <td>6.6</td>\n",
       "      <td>8.10</td>\n",
       "      <td>0.34</td>\n",
       "      <td>3.15</td>\n",
       "      <td>0.40</td>\n",
       "      <td>0.046</td>\n",
       "      <td>68.0</td>\n",
       "      <td>0</td>\n",
       "    </tr>\n",
       "    <tr>\n",
       "      <th>8</th>\n",
       "      <td>0.30</td>\n",
       "      <td>11.90</td>\n",
       "      <td>A</td>\n",
       "      <td>0.99200</td>\n",
       "      <td>NaN</td>\n",
       "      <td>138.0</td>\n",
       "      <td>7.3</td>\n",
       "      <td>6.85</td>\n",
       "      <td>0.33</td>\n",
       "      <td>3.03</td>\n",
       "      <td>0.40</td>\n",
       "      <td>0.038</td>\n",
       "      <td>32.0</td>\n",
       "      <td>1</td>\n",
       "    </tr>\n",
       "    <tr>\n",
       "      <th>9</th>\n",
       "      <td>0.50</td>\n",
       "      <td>9.80</td>\n",
       "      <td>A</td>\n",
       "      <td>0.99345</td>\n",
       "      <td>NaN</td>\n",
       "      <td>109.0</td>\n",
       "      <td>6.4</td>\n",
       "      <td>1.50</td>\n",
       "      <td>0.16</td>\n",
       "      <td>3.38</td>\n",
       "      <td>0.37</td>\n",
       "      <td>0.037</td>\n",
       "      <td>27.0</td>\n",
       "      <td>0</td>\n",
       "    </tr>\n",
       "  </tbody>\n",
       "</table>\n",
       "</div>"
      ],
      "text/plain": [
       "   ComponentAge  MonthlyRunTime Location  FlowRate  OPXVolume  MaxOutputRate  \\\n",
       "0          0.55            9.50        B   0.99740        NaN           32.0   \n",
       "1          0.32           12.70        A   0.99184        NaN           28.0   \n",
       "2          0.57            9.70        B   0.99743        NaN           86.0   \n",
       "3          0.50            9.50        B   0.99593        NaN           84.0   \n",
       "4          0.44           10.80        A   0.99280        NaN          127.0   \n",
       "5          0.41           10.60        A   0.99300        NaN           76.0   \n",
       "6          0.76           10.00        A   0.99660        NaN          110.0   \n",
       "7          0.50            9.55        A   0.99494        NaN          170.0   \n",
       "8          0.30           11.90        A   0.99200        NaN          138.0   \n",
       "9          0.50            9.80        A   0.99345        NaN          109.0   \n",
       "\n",
       "   Sensor1  Sensor2 Sensor3  Sensor4  Sensor5  Sensor5.1  \\\n",
       "0     10.0     1.90    0.58     3.13     0.22      0.080   \n",
       "1      6.9    10.55     0.3     3.07     0.30      0.037   \n",
       "2      7.2     2.30    0.66     3.53     0.03      0.078   \n",
       "3      7.1     1.80   0.755     3.19     0.15      0.107   \n",
       "4      7.0     4.90    0.29     3.17     0.37      0.034   \n",
       "5      7.0     2.10    0.22     3.20     0.33      0.052   \n",
       "6      7.7     7.70    0.39     3.33     0.49      0.036   \n",
       "7      6.6     8.10    0.34     3.15     0.40      0.046   \n",
       "8      7.3     6.85    0.33     3.03     0.40      0.038   \n",
       "9      6.4     1.50    0.16     3.38     0.37      0.037   \n",
       "\n",
       "   DaysSinceMaintenance  Target  \n",
       "0                   9.0       0  \n",
       "1                   4.0       0  \n",
       "2                  16.0       0  \n",
       "3                  20.0       0  \n",
       "4                  26.0       0  \n",
       "5                  15.0       0  \n",
       "6                  11.0       0  \n",
       "7                  68.0       0  \n",
       "8                  32.0       1  \n",
       "9                  27.0       0  "
      ]
     },
     "execution_count": 3,
     "metadata": {},
     "output_type": "execute_result"
    }
   ],
   "source": [
    "data.head(10)"
   ]
  },
  {
   "cell_type": "code",
   "execution_count": 4,
   "id": "13d5d7d2",
   "metadata": {},
   "outputs": [
    {
     "data": {
      "text/html": [
       "<div>\n",
       "<style scoped>\n",
       "    .dataframe tbody tr th:only-of-type {\n",
       "        vertical-align: middle;\n",
       "    }\n",
       "\n",
       "    .dataframe tbody tr th {\n",
       "        vertical-align: top;\n",
       "    }\n",
       "\n",
       "    .dataframe thead th {\n",
       "        text-align: right;\n",
       "    }\n",
       "</style>\n",
       "<table border=\"1\" class=\"dataframe\">\n",
       "  <thead>\n",
       "    <tr style=\"text-align: right;\">\n",
       "      <th></th>\n",
       "      <th>ComponentAge</th>\n",
       "      <th>MonthlyRunTime</th>\n",
       "      <th>Location</th>\n",
       "      <th>FlowRate</th>\n",
       "      <th>OPXVolume</th>\n",
       "      <th>MaxOutputRate</th>\n",
       "      <th>Sensor1</th>\n",
       "      <th>Sensor2</th>\n",
       "      <th>Sensor3</th>\n",
       "      <th>Sensor4</th>\n",
       "      <th>Sensor5</th>\n",
       "      <th>Sensor5.1</th>\n",
       "      <th>DaysSinceMaintenance</th>\n",
       "      <th>Target</th>\n",
       "    </tr>\n",
       "  </thead>\n",
       "  <tbody>\n",
       "    <tr>\n",
       "      <th>6487</th>\n",
       "      <td>0.50</td>\n",
       "      <td>11.066667</td>\n",
       "      <td>A</td>\n",
       "      <td>0.99332</td>\n",
       "      <td>NaN</td>\n",
       "      <td>143.0</td>\n",
       "      <td>5.7</td>\n",
       "      <td>7.30</td>\n",
       "      <td>0.31</td>\n",
       "      <td>3.31</td>\n",
       "      <td>0.29</td>\n",
       "      <td>0.050</td>\n",
       "      <td>33.0</td>\n",
       "      <td>0</td>\n",
       "    </tr>\n",
       "    <tr>\n",
       "      <th>6488</th>\n",
       "      <td>0.40</td>\n",
       "      <td>11.200000</td>\n",
       "      <td>A</td>\n",
       "      <td>0.99184</td>\n",
       "      <td>NaN</td>\n",
       "      <td>145.0</td>\n",
       "      <td>6.2</td>\n",
       "      <td>5.25</td>\n",
       "      <td>0.36</td>\n",
       "      <td>3.22</td>\n",
       "      <td>0.22</td>\n",
       "      <td>0.038</td>\n",
       "      <td>44.0</td>\n",
       "      <td>0</td>\n",
       "    </tr>\n",
       "    <tr>\n",
       "      <th>6489</th>\n",
       "      <td>0.62</td>\n",
       "      <td>9.800000</td>\n",
       "      <td>A</td>\n",
       "      <td>0.99382</td>\n",
       "      <td>NaN</td>\n",
       "      <td>134.0</td>\n",
       "      <td>7.7</td>\n",
       "      <td>2.00</td>\n",
       "      <td>0.31</td>\n",
       "      <td>3.11</td>\n",
       "      <td>0.23</td>\n",
       "      <td>0.069</td>\n",
       "      <td>29.0</td>\n",
       "      <td>0</td>\n",
       "    </tr>\n",
       "    <tr>\n",
       "      <th>6490</th>\n",
       "      <td>0.55</td>\n",
       "      <td>12.300000</td>\n",
       "      <td>B</td>\n",
       "      <td>0.99506</td>\n",
       "      <td>NaN</td>\n",
       "      <td>9.0</td>\n",
       "      <td>8.2</td>\n",
       "      <td>2.30</td>\n",
       "      <td>0.32</td>\n",
       "      <td>3.27</td>\n",
       "      <td>0.42</td>\n",
       "      <td>0.098</td>\n",
       "      <td>3.0</td>\n",
       "      <td>0</td>\n",
       "    </tr>\n",
       "    <tr>\n",
       "      <th>6491</th>\n",
       "      <td>0.31</td>\n",
       "      <td>9.400000</td>\n",
       "      <td>A</td>\n",
       "      <td>0.99330</td>\n",
       "      <td>NaN</td>\n",
       "      <td>69.0</td>\n",
       "      <td>5.8</td>\n",
       "      <td>1.80</td>\n",
       "      <td>0.23</td>\n",
       "      <td>3.38</td>\n",
       "      <td>0.27</td>\n",
       "      <td>0.043</td>\n",
       "      <td>24.0</td>\n",
       "      <td>0</td>\n",
       "    </tr>\n",
       "    <tr>\n",
       "      <th>6492</th>\n",
       "      <td>0.35</td>\n",
       "      <td>9.200000</td>\n",
       "      <td>A</td>\n",
       "      <td>0.99240</td>\n",
       "      <td>NaN</td>\n",
       "      <td>30.0</td>\n",
       "      <td>5.6</td>\n",
       "      <td>0.80</td>\n",
       "      <td>0.29</td>\n",
       "      <td>3.36</td>\n",
       "      <td>0.05</td>\n",
       "      <td>0.038</td>\n",
       "      <td>11.0</td>\n",
       "      <td>0</td>\n",
       "    </tr>\n",
       "    <tr>\n",
       "      <th>6493</th>\n",
       "      <td>0.74</td>\n",
       "      <td>11.500000</td>\n",
       "      <td>B</td>\n",
       "      <td>0.99780</td>\n",
       "      <td>NaN</td>\n",
       "      <td>14.0</td>\n",
       "      <td>11.6</td>\n",
       "      <td>3.65</td>\n",
       "      <td>0.53</td>\n",
       "      <td>3.05</td>\n",
       "      <td>0.66</td>\n",
       "      <td>0.121</td>\n",
       "      <td>6.0</td>\n",
       "      <td>1</td>\n",
       "    </tr>\n",
       "    <tr>\n",
       "      <th>6494</th>\n",
       "      <td>0.47</td>\n",
       "      <td>10.000000</td>\n",
       "      <td>A</td>\n",
       "      <td>0.99480</td>\n",
       "      <td>NaN</td>\n",
       "      <td>159.0</td>\n",
       "      <td>7.2</td>\n",
       "      <td>1.80</td>\n",
       "      <td>0.15</td>\n",
       "      <td>3.52</td>\n",
       "      <td>0.39</td>\n",
       "      <td>0.043</td>\n",
       "      <td>21.0</td>\n",
       "      <td>0</td>\n",
       "    </tr>\n",
       "    <tr>\n",
       "      <th>6495</th>\n",
       "      <td>0.53</td>\n",
       "      <td>10.500000</td>\n",
       "      <td>B</td>\n",
       "      <td>0.99860</td>\n",
       "      <td>3.0</td>\n",
       "      <td>21.0</td>\n",
       "      <td>11.1</td>\n",
       "      <td>3.10</td>\n",
       "      <td>0.35</td>\n",
       "      <td>3.17</td>\n",
       "      <td>0.48</td>\n",
       "      <td>0.090</td>\n",
       "      <td>5.0</td>\n",
       "      <td>0</td>\n",
       "    </tr>\n",
       "    <tr>\n",
       "      <th>6496</th>\n",
       "      <td>0.36</td>\n",
       "      <td>10.000000</td>\n",
       "      <td>A</td>\n",
       "      <td>0.99272</td>\n",
       "      <td>NaN</td>\n",
       "      <td>95.0</td>\n",
       "      <td>8.5</td>\n",
       "      <td>1.10</td>\n",
       "      <td>0.18</td>\n",
       "      <td>2.83</td>\n",
       "      <td>0.30</td>\n",
       "      <td>0.028</td>\n",
       "      <td>34.0</td>\n",
       "      <td>0</td>\n",
       "    </tr>\n",
       "  </tbody>\n",
       "</table>\n",
       "</div>"
      ],
      "text/plain": [
       "      ComponentAge  MonthlyRunTime Location  FlowRate  OPXVolume  \\\n",
       "6487          0.50       11.066667        A   0.99332        NaN   \n",
       "6488          0.40       11.200000        A   0.99184        NaN   \n",
       "6489          0.62        9.800000        A   0.99382        NaN   \n",
       "6490          0.55       12.300000        B   0.99506        NaN   \n",
       "6491          0.31        9.400000        A   0.99330        NaN   \n",
       "6492          0.35        9.200000        A   0.99240        NaN   \n",
       "6493          0.74       11.500000        B   0.99780        NaN   \n",
       "6494          0.47       10.000000        A   0.99480        NaN   \n",
       "6495          0.53       10.500000        B   0.99860        3.0   \n",
       "6496          0.36       10.000000        A   0.99272        NaN   \n",
       "\n",
       "      MaxOutputRate  Sensor1  Sensor2 Sensor3  Sensor4  Sensor5  Sensor5.1  \\\n",
       "6487          143.0      5.7     7.30    0.31     3.31     0.29      0.050   \n",
       "6488          145.0      6.2     5.25    0.36     3.22     0.22      0.038   \n",
       "6489          134.0      7.7     2.00    0.31     3.11     0.23      0.069   \n",
       "6490            9.0      8.2     2.30    0.32     3.27     0.42      0.098   \n",
       "6491           69.0      5.8     1.80    0.23     3.38     0.27      0.043   \n",
       "6492           30.0      5.6     0.80    0.29     3.36     0.05      0.038   \n",
       "6493           14.0     11.6     3.65    0.53     3.05     0.66      0.121   \n",
       "6494          159.0      7.2     1.80    0.15     3.52     0.39      0.043   \n",
       "6495           21.0     11.1     3.10    0.35     3.17     0.48      0.090   \n",
       "6496           95.0      8.5     1.10    0.18     2.83     0.30      0.028   \n",
       "\n",
       "      DaysSinceMaintenance  Target  \n",
       "6487                  33.0       0  \n",
       "6488                  44.0       0  \n",
       "6489                  29.0       0  \n",
       "6490                   3.0       0  \n",
       "6491                  24.0       0  \n",
       "6492                  11.0       0  \n",
       "6493                   6.0       1  \n",
       "6494                  21.0       0  \n",
       "6495                   5.0       0  \n",
       "6496                  34.0       0  "
      ]
     },
     "execution_count": 4,
     "metadata": {},
     "output_type": "execute_result"
    }
   ],
   "source": [
    "data.tail(10)"
   ]
  },
  {
   "cell_type": "code",
   "execution_count": 5,
   "id": "6158393e",
   "metadata": {},
   "outputs": [
    {
     "data": {
      "text/plain": [
       "(6497, 14)"
      ]
     },
     "execution_count": 5,
     "metadata": {},
     "output_type": "execute_result"
    }
   ],
   "source": [
    "data.shape"
   ]
  },
  {
   "cell_type": "code",
   "execution_count": 6,
   "id": "d10bc2fe",
   "metadata": {},
   "outputs": [
    {
     "name": "stdout",
     "output_type": "stream",
     "text": [
      "<class 'pandas.core.frame.DataFrame'>\n",
      "RangeIndex: 6497 entries, 0 to 6496\n",
      "Data columns (total 14 columns):\n",
      " #   Column                Non-Null Count  Dtype  \n",
      "---  ------                --------------  -----  \n",
      " 0   ComponentAge          6493 non-null   float64\n",
      " 1   MonthlyRunTime        6497 non-null   float64\n",
      " 2   Location              6497 non-null   object \n",
      " 3   FlowRate              6497 non-null   float64\n",
      " 4   OPXVolume             805 non-null    float64\n",
      " 5   MaxOutputRate         6497 non-null   float64\n",
      " 6   Sensor1               6487 non-null   float64\n",
      " 7   Sensor2               6495 non-null   float64\n",
      " 8   Sensor3               6497 non-null   object \n",
      " 9   Sensor4               6488 non-null   float64\n",
      " 10  Sensor5               6494 non-null   float64\n",
      " 11  Sensor5.1             6495 non-null   float64\n",
      " 12  DaysSinceMaintenance  6497 non-null   float64\n",
      " 13  Target                6497 non-null   int64  \n",
      "dtypes: float64(11), int64(1), object(2)\n",
      "memory usage: 710.7+ KB\n"
     ]
    }
   ],
   "source": [
    "data.info()"
   ]
  },
  {
   "cell_type": "markdown",
   "id": "2e4d718e",
   "metadata": {},
   "source": [
    "# Exploratory Data Analysis (EDA)"
   ]
  },
  {
   "cell_type": "code",
   "execution_count": 7,
   "id": "d9f9c187",
   "metadata": {},
   "outputs": [
    {
     "data": {
      "text/plain": [
       "ComponentAge               4\n",
       "MonthlyRunTime             0\n",
       "Location                   0\n",
       "FlowRate                   0\n",
       "OPXVolume               5692\n",
       "MaxOutputRate              0\n",
       "Sensor1                   10\n",
       "Sensor2                    2\n",
       "Sensor3                    0\n",
       "Sensor4                    9\n",
       "Sensor5                    3\n",
       "Sensor5.1                  2\n",
       "DaysSinceMaintenance       0\n",
       "Target                     0\n",
       "dtype: int64"
      ]
     },
     "execution_count": 7,
     "metadata": {},
     "output_type": "execute_result"
    }
   ],
   "source": [
    "# check NULL values\n",
    "data.isnull().sum()"
   ]
  },
  {
   "cell_type": "code",
   "execution_count": 8,
   "id": "48de7dd0",
   "metadata": {},
   "outputs": [],
   "source": [
    "# Converted string value to numeric value(label-encoding)\n",
    "\n",
    "data['Location']=data['Location'].map({'A':0,'B':1})"
   ]
  },
  {
   "cell_type": "code",
   "execution_count": 9,
   "id": "5d90036d",
   "metadata": {},
   "outputs": [
    {
     "data": {
      "text/html": [
       "<div>\n",
       "<style scoped>\n",
       "    .dataframe tbody tr th:only-of-type {\n",
       "        vertical-align: middle;\n",
       "    }\n",
       "\n",
       "    .dataframe tbody tr th {\n",
       "        vertical-align: top;\n",
       "    }\n",
       "\n",
       "    .dataframe thead th {\n",
       "        text-align: right;\n",
       "    }\n",
       "</style>\n",
       "<table border=\"1\" class=\"dataframe\">\n",
       "  <thead>\n",
       "    <tr style=\"text-align: right;\">\n",
       "      <th></th>\n",
       "      <th>ComponentAge</th>\n",
       "      <th>MonthlyRunTime</th>\n",
       "      <th>Location</th>\n",
       "      <th>FlowRate</th>\n",
       "      <th>OPXVolume</th>\n",
       "      <th>MaxOutputRate</th>\n",
       "      <th>Sensor1</th>\n",
       "      <th>Sensor2</th>\n",
       "      <th>Sensor3</th>\n",
       "      <th>Sensor4</th>\n",
       "      <th>Sensor5</th>\n",
       "      <th>Sensor5.1</th>\n",
       "      <th>DaysSinceMaintenance</th>\n",
       "      <th>Target</th>\n",
       "    </tr>\n",
       "  </thead>\n",
       "  <tbody>\n",
       "    <tr>\n",
       "      <th>0</th>\n",
       "      <td>0.55</td>\n",
       "      <td>9.5</td>\n",
       "      <td>1</td>\n",
       "      <td>0.99740</td>\n",
       "      <td>NaN</td>\n",
       "      <td>32.0</td>\n",
       "      <td>10.0</td>\n",
       "      <td>1.90</td>\n",
       "      <td>0.58</td>\n",
       "      <td>3.13</td>\n",
       "      <td>0.22</td>\n",
       "      <td>0.080</td>\n",
       "      <td>9.0</td>\n",
       "      <td>0</td>\n",
       "    </tr>\n",
       "    <tr>\n",
       "      <th>1</th>\n",
       "      <td>0.32</td>\n",
       "      <td>12.7</td>\n",
       "      <td>0</td>\n",
       "      <td>0.99184</td>\n",
       "      <td>NaN</td>\n",
       "      <td>28.0</td>\n",
       "      <td>6.9</td>\n",
       "      <td>10.55</td>\n",
       "      <td>0.3</td>\n",
       "      <td>3.07</td>\n",
       "      <td>0.30</td>\n",
       "      <td>0.037</td>\n",
       "      <td>4.0</td>\n",
       "      <td>0</td>\n",
       "    </tr>\n",
       "    <tr>\n",
       "      <th>2</th>\n",
       "      <td>0.57</td>\n",
       "      <td>9.7</td>\n",
       "      <td>1</td>\n",
       "      <td>0.99743</td>\n",
       "      <td>NaN</td>\n",
       "      <td>86.0</td>\n",
       "      <td>7.2</td>\n",
       "      <td>2.30</td>\n",
       "      <td>0.66</td>\n",
       "      <td>3.53</td>\n",
       "      <td>0.03</td>\n",
       "      <td>0.078</td>\n",
       "      <td>16.0</td>\n",
       "      <td>0</td>\n",
       "    </tr>\n",
       "    <tr>\n",
       "      <th>3</th>\n",
       "      <td>0.50</td>\n",
       "      <td>9.5</td>\n",
       "      <td>1</td>\n",
       "      <td>0.99593</td>\n",
       "      <td>NaN</td>\n",
       "      <td>84.0</td>\n",
       "      <td>7.1</td>\n",
       "      <td>1.80</td>\n",
       "      <td>0.755</td>\n",
       "      <td>3.19</td>\n",
       "      <td>0.15</td>\n",
       "      <td>0.107</td>\n",
       "      <td>20.0</td>\n",
       "      <td>0</td>\n",
       "    </tr>\n",
       "    <tr>\n",
       "      <th>4</th>\n",
       "      <td>0.44</td>\n",
       "      <td>10.8</td>\n",
       "      <td>0</td>\n",
       "      <td>0.99280</td>\n",
       "      <td>NaN</td>\n",
       "      <td>127.0</td>\n",
       "      <td>7.0</td>\n",
       "      <td>4.90</td>\n",
       "      <td>0.29</td>\n",
       "      <td>3.17</td>\n",
       "      <td>0.37</td>\n",
       "      <td>0.034</td>\n",
       "      <td>26.0</td>\n",
       "      <td>0</td>\n",
       "    </tr>\n",
       "  </tbody>\n",
       "</table>\n",
       "</div>"
      ],
      "text/plain": [
       "   ComponentAge  MonthlyRunTime  Location  FlowRate  OPXVolume  MaxOutputRate  \\\n",
       "0          0.55             9.5         1   0.99740        NaN           32.0   \n",
       "1          0.32            12.7         0   0.99184        NaN           28.0   \n",
       "2          0.57             9.7         1   0.99743        NaN           86.0   \n",
       "3          0.50             9.5         1   0.99593        NaN           84.0   \n",
       "4          0.44            10.8         0   0.99280        NaN          127.0   \n",
       "\n",
       "   Sensor1  Sensor2 Sensor3  Sensor4  Sensor5  Sensor5.1  \\\n",
       "0     10.0     1.90    0.58     3.13     0.22      0.080   \n",
       "1      6.9    10.55     0.3     3.07     0.30      0.037   \n",
       "2      7.2     2.30    0.66     3.53     0.03      0.078   \n",
       "3      7.1     1.80   0.755     3.19     0.15      0.107   \n",
       "4      7.0     4.90    0.29     3.17     0.37      0.034   \n",
       "\n",
       "   DaysSinceMaintenance  Target  \n",
       "0                   9.0       0  \n",
       "1                   4.0       0  \n",
       "2                  16.0       0  \n",
       "3                  20.0       0  \n",
       "4                  26.0       0  "
      ]
     },
     "execution_count": 9,
     "metadata": {},
     "output_type": "execute_result"
    }
   ],
   "source": [
    "data.head()"
   ]
  },
  {
   "cell_type": "code",
   "execution_count": 10,
   "id": "4772bfc7",
   "metadata": {},
   "outputs": [],
   "source": [
    "# Converted Sensor3 data from object to numeric\n",
    "\n",
    "data['Sensor3'] = pd.to_numeric(data['Sensor3'], errors='coerce')"
   ]
  },
  {
   "cell_type": "markdown",
   "id": "4cb10f18",
   "metadata": {},
   "source": [
    "### Rechecking the updated values and data types"
   ]
  },
  {
   "cell_type": "code",
   "execution_count": 11,
   "id": "0933dce6",
   "metadata": {},
   "outputs": [
    {
     "name": "stdout",
     "output_type": "stream",
     "text": [
      "<class 'pandas.core.frame.DataFrame'>\n",
      "RangeIndex: 6497 entries, 0 to 6496\n",
      "Data columns (total 14 columns):\n",
      " #   Column                Non-Null Count  Dtype  \n",
      "---  ------                --------------  -----  \n",
      " 0   ComponentAge          6493 non-null   float64\n",
      " 1   MonthlyRunTime        6497 non-null   float64\n",
      " 2   Location              6497 non-null   int64  \n",
      " 3   FlowRate              6497 non-null   float64\n",
      " 4   OPXVolume             805 non-null    float64\n",
      " 5   MaxOutputRate         6497 non-null   float64\n",
      " 6   Sensor1               6487 non-null   float64\n",
      " 7   Sensor2               6495 non-null   float64\n",
      " 8   Sensor3               6489 non-null   float64\n",
      " 9   Sensor4               6488 non-null   float64\n",
      " 10  Sensor5               6494 non-null   float64\n",
      " 11  Sensor5.1             6495 non-null   float64\n",
      " 12  DaysSinceMaintenance  6497 non-null   float64\n",
      " 13  Target                6497 non-null   int64  \n",
      "dtypes: float64(12), int64(2)\n",
      "memory usage: 710.7 KB\n"
     ]
    }
   ],
   "source": [
    "# display all information of my data frame \n",
    "data.info()"
   ]
  },
  {
   "cell_type": "markdown",
   "id": "cbb82ce2",
   "metadata": {},
   "source": [
    "### basic descriptive statistical analysis of our DataSet."
   ]
  },
  {
   "cell_type": "code",
   "execution_count": 12,
   "id": "b4b9aa87",
   "metadata": {},
   "outputs": [
    {
     "data": {
      "text/html": [
       "<div>\n",
       "<style scoped>\n",
       "    .dataframe tbody tr th:only-of-type {\n",
       "        vertical-align: middle;\n",
       "    }\n",
       "\n",
       "    .dataframe tbody tr th {\n",
       "        vertical-align: top;\n",
       "    }\n",
       "\n",
       "    .dataframe thead th {\n",
       "        text-align: right;\n",
       "    }\n",
       "</style>\n",
       "<table border=\"1\" class=\"dataframe\">\n",
       "  <thead>\n",
       "    <tr style=\"text-align: right;\">\n",
       "      <th></th>\n",
       "      <th>count</th>\n",
       "      <th>mean</th>\n",
       "      <th>std</th>\n",
       "      <th>min</th>\n",
       "      <th>25%</th>\n",
       "      <th>50%</th>\n",
       "      <th>75%</th>\n",
       "      <th>max</th>\n",
       "    </tr>\n",
       "  </thead>\n",
       "  <tbody>\n",
       "    <tr>\n",
       "      <th>ComponentAge</th>\n",
       "      <td>6493.0</td>\n",
       "      <td>0.531215</td>\n",
       "      <td>0.148814</td>\n",
       "      <td>0.22000</td>\n",
       "      <td>0.43000</td>\n",
       "      <td>0.51000</td>\n",
       "      <td>0.60000</td>\n",
       "      <td>2.00000</td>\n",
       "    </tr>\n",
       "    <tr>\n",
       "      <th>MonthlyRunTime</th>\n",
       "      <td>6497.0</td>\n",
       "      <td>10.491801</td>\n",
       "      <td>1.192712</td>\n",
       "      <td>8.00000</td>\n",
       "      <td>9.50000</td>\n",
       "      <td>10.30000</td>\n",
       "      <td>11.30000</td>\n",
       "      <td>14.90000</td>\n",
       "    </tr>\n",
       "    <tr>\n",
       "      <th>Location</th>\n",
       "      <td>6497.0</td>\n",
       "      <td>0.246114</td>\n",
       "      <td>0.430779</td>\n",
       "      <td>0.00000</td>\n",
       "      <td>0.00000</td>\n",
       "      <td>0.00000</td>\n",
       "      <td>0.00000</td>\n",
       "      <td>1.00000</td>\n",
       "    </tr>\n",
       "    <tr>\n",
       "      <th>FlowRate</th>\n",
       "      <td>6497.0</td>\n",
       "      <td>0.994697</td>\n",
       "      <td>0.002999</td>\n",
       "      <td>0.98711</td>\n",
       "      <td>0.99234</td>\n",
       "      <td>0.99489</td>\n",
       "      <td>0.99699</td>\n",
       "      <td>1.03898</td>\n",
       "    </tr>\n",
       "    <tr>\n",
       "      <th>OPXVolume</th>\n",
       "      <td>805.0</td>\n",
       "      <td>5.631056</td>\n",
       "      <td>3.403142</td>\n",
       "      <td>0.00000</td>\n",
       "      <td>3.00000</td>\n",
       "      <td>6.00000</td>\n",
       "      <td>9.00000</td>\n",
       "      <td>11.00000</td>\n",
       "    </tr>\n",
       "    <tr>\n",
       "      <th>MaxOutputRate</th>\n",
       "      <td>6497.0</td>\n",
       "      <td>115.744574</td>\n",
       "      <td>56.521855</td>\n",
       "      <td>6.00000</td>\n",
       "      <td>77.00000</td>\n",
       "      <td>118.00000</td>\n",
       "      <td>156.00000</td>\n",
       "      <td>440.00000</td>\n",
       "    </tr>\n",
       "    <tr>\n",
       "      <th>Sensor1</th>\n",
       "      <td>6487.0</td>\n",
       "      <td>7.216579</td>\n",
       "      <td>1.296750</td>\n",
       "      <td>3.80000</td>\n",
       "      <td>6.40000</td>\n",
       "      <td>7.00000</td>\n",
       "      <td>7.70000</td>\n",
       "      <td>15.90000</td>\n",
       "    </tr>\n",
       "    <tr>\n",
       "      <th>Sensor2</th>\n",
       "      <td>6495.0</td>\n",
       "      <td>5.444326</td>\n",
       "      <td>4.758125</td>\n",
       "      <td>0.60000</td>\n",
       "      <td>1.80000</td>\n",
       "      <td>3.00000</td>\n",
       "      <td>8.10000</td>\n",
       "      <td>65.80000</td>\n",
       "    </tr>\n",
       "    <tr>\n",
       "      <th>Sensor3</th>\n",
       "      <td>6489.0</td>\n",
       "      <td>0.339691</td>\n",
       "      <td>0.164649</td>\n",
       "      <td>0.08000</td>\n",
       "      <td>0.23000</td>\n",
       "      <td>0.29000</td>\n",
       "      <td>0.40000</td>\n",
       "      <td>1.58000</td>\n",
       "    </tr>\n",
       "    <tr>\n",
       "      <th>Sensor4</th>\n",
       "      <td>6488.0</td>\n",
       "      <td>3.218395</td>\n",
       "      <td>0.160748</td>\n",
       "      <td>2.72000</td>\n",
       "      <td>3.11000</td>\n",
       "      <td>3.21000</td>\n",
       "      <td>3.32000</td>\n",
       "      <td>4.01000</td>\n",
       "    </tr>\n",
       "    <tr>\n",
       "      <th>Sensor5</th>\n",
       "      <td>6494.0</td>\n",
       "      <td>0.318722</td>\n",
       "      <td>0.145265</td>\n",
       "      <td>0.00000</td>\n",
       "      <td>0.25000</td>\n",
       "      <td>0.31000</td>\n",
       "      <td>0.39000</td>\n",
       "      <td>1.66000</td>\n",
       "    </tr>\n",
       "    <tr>\n",
       "      <th>Sensor5.1</th>\n",
       "      <td>6495.0</td>\n",
       "      <td>0.056042</td>\n",
       "      <td>0.035036</td>\n",
       "      <td>0.00900</td>\n",
       "      <td>0.03800</td>\n",
       "      <td>0.04700</td>\n",
       "      <td>0.06500</td>\n",
       "      <td>0.61100</td>\n",
       "    </tr>\n",
       "    <tr>\n",
       "      <th>DaysSinceMaintenance</th>\n",
       "      <td>6497.0</td>\n",
       "      <td>30.525319</td>\n",
       "      <td>17.749400</td>\n",
       "      <td>1.00000</td>\n",
       "      <td>17.00000</td>\n",
       "      <td>29.00000</td>\n",
       "      <td>41.00000</td>\n",
       "      <td>289.00000</td>\n",
       "    </tr>\n",
       "    <tr>\n",
       "      <th>Target</th>\n",
       "      <td>6497.0</td>\n",
       "      <td>0.196552</td>\n",
       "      <td>0.397421</td>\n",
       "      <td>0.00000</td>\n",
       "      <td>0.00000</td>\n",
       "      <td>0.00000</td>\n",
       "      <td>0.00000</td>\n",
       "      <td>1.00000</td>\n",
       "    </tr>\n",
       "  </tbody>\n",
       "</table>\n",
       "</div>"
      ],
      "text/plain": [
       "                       count        mean        std      min       25%  \\\n",
       "ComponentAge          6493.0    0.531215   0.148814  0.22000   0.43000   \n",
       "MonthlyRunTime        6497.0   10.491801   1.192712  8.00000   9.50000   \n",
       "Location              6497.0    0.246114   0.430779  0.00000   0.00000   \n",
       "FlowRate              6497.0    0.994697   0.002999  0.98711   0.99234   \n",
       "OPXVolume              805.0    5.631056   3.403142  0.00000   3.00000   \n",
       "MaxOutputRate         6497.0  115.744574  56.521855  6.00000  77.00000   \n",
       "Sensor1               6487.0    7.216579   1.296750  3.80000   6.40000   \n",
       "Sensor2               6495.0    5.444326   4.758125  0.60000   1.80000   \n",
       "Sensor3               6489.0    0.339691   0.164649  0.08000   0.23000   \n",
       "Sensor4               6488.0    3.218395   0.160748  2.72000   3.11000   \n",
       "Sensor5               6494.0    0.318722   0.145265  0.00000   0.25000   \n",
       "Sensor5.1             6495.0    0.056042   0.035036  0.00900   0.03800   \n",
       "DaysSinceMaintenance  6497.0   30.525319  17.749400  1.00000  17.00000   \n",
       "Target                6497.0    0.196552   0.397421  0.00000   0.00000   \n",
       "\n",
       "                            50%        75%        max  \n",
       "ComponentAge            0.51000    0.60000    2.00000  \n",
       "MonthlyRunTime         10.30000   11.30000   14.90000  \n",
       "Location                0.00000    0.00000    1.00000  \n",
       "FlowRate                0.99489    0.99699    1.03898  \n",
       "OPXVolume               6.00000    9.00000   11.00000  \n",
       "MaxOutputRate         118.00000  156.00000  440.00000  \n",
       "Sensor1                 7.00000    7.70000   15.90000  \n",
       "Sensor2                 3.00000    8.10000   65.80000  \n",
       "Sensor3                 0.29000    0.40000    1.58000  \n",
       "Sensor4                 3.21000    3.32000    4.01000  \n",
       "Sensor5                 0.31000    0.39000    1.66000  \n",
       "Sensor5.1               0.04700    0.06500    0.61100  \n",
       "DaysSinceMaintenance   29.00000   41.00000  289.00000  \n",
       "Target                  0.00000    0.00000    1.00000  "
      ]
     },
     "execution_count": 12,
     "metadata": {},
     "output_type": "execute_result"
    }
   ],
   "source": [
    "# Pandas DataFrame.transpose() function transpose index and columns of the dataframe. \n",
    "# It reflect the DataFrame over its main diagonal by writing rows as columns and vice-versa.\n",
    "data.describe().transpose()"
   ]
  },
  {
   "cell_type": "code",
   "execution_count": 13,
   "id": "898997d3",
   "metadata": {},
   "outputs": [
    {
     "data": {
      "text/html": [
       "<div>\n",
       "<style scoped>\n",
       "    .dataframe tbody tr th:only-of-type {\n",
       "        vertical-align: middle;\n",
       "    }\n",
       "\n",
       "    .dataframe tbody tr th {\n",
       "        vertical-align: top;\n",
       "    }\n",
       "\n",
       "    .dataframe thead th {\n",
       "        text-align: right;\n",
       "    }\n",
       "</style>\n",
       "<table border=\"1\" class=\"dataframe\">\n",
       "  <thead>\n",
       "    <tr style=\"text-align: right;\">\n",
       "      <th></th>\n",
       "      <th>ComponentAge</th>\n",
       "      <th>MonthlyRunTime</th>\n",
       "      <th>Location</th>\n",
       "      <th>FlowRate</th>\n",
       "      <th>OPXVolume</th>\n",
       "      <th>MaxOutputRate</th>\n",
       "      <th>Sensor1</th>\n",
       "      <th>Sensor2</th>\n",
       "      <th>Sensor3</th>\n",
       "      <th>Sensor4</th>\n",
       "      <th>Sensor5</th>\n",
       "      <th>Sensor5.1</th>\n",
       "      <th>DaysSinceMaintenance</th>\n",
       "      <th>Target</th>\n",
       "    </tr>\n",
       "  </thead>\n",
       "  <tbody>\n",
       "    <tr>\n",
       "      <th>ComponentAge</th>\n",
       "      <td>1.000000</td>\n",
       "      <td>-0.003261</td>\n",
       "      <td>0.486916</td>\n",
       "      <td>0.259454</td>\n",
       "      <td>-0.025021</td>\n",
       "      <td>-0.275381</td>\n",
       "      <td>0.300380</td>\n",
       "      <td>-0.185745</td>\n",
       "      <td>0.225476</td>\n",
       "      <td>0.191248</td>\n",
       "      <td>0.057613</td>\n",
       "      <td>0.395332</td>\n",
       "      <td>-0.188489</td>\n",
       "      <td>0.034159</td>\n",
       "    </tr>\n",
       "    <tr>\n",
       "      <th>MonthlyRunTime</th>\n",
       "      <td>-0.003261</td>\n",
       "      <td>1.000000</td>\n",
       "      <td>-0.032970</td>\n",
       "      <td>-0.686745</td>\n",
       "      <td>-0.037942</td>\n",
       "      <td>-0.265740</td>\n",
       "      <td>-0.095603</td>\n",
       "      <td>-0.359706</td>\n",
       "      <td>-0.038248</td>\n",
       "      <td>0.121002</td>\n",
       "      <td>-0.010433</td>\n",
       "      <td>-0.256861</td>\n",
       "      <td>-0.179838</td>\n",
       "      <td>0.390486</td>\n",
       "    </tr>\n",
       "    <tr>\n",
       "      <th>Location</th>\n",
       "      <td>0.486916</td>\n",
       "      <td>-0.032970</td>\n",
       "      <td>1.000000</td>\n",
       "      <td>0.390645</td>\n",
       "      <td>-0.025356</td>\n",
       "      <td>-0.700357</td>\n",
       "      <td>0.487241</td>\n",
       "      <td>-0.349000</td>\n",
       "      <td>0.652875</td>\n",
       "      <td>0.328727</td>\n",
       "      <td>-0.187126</td>\n",
       "      <td>0.512622</td>\n",
       "      <td>-0.471644</td>\n",
       "      <td>-0.087479</td>\n",
       "    </tr>\n",
       "    <tr>\n",
       "      <th>FlowRate</th>\n",
       "      <td>0.259454</td>\n",
       "      <td>-0.686745</td>\n",
       "      <td>0.390645</td>\n",
       "      <td>1.000000</td>\n",
       "      <td>0.030025</td>\n",
       "      <td>0.032395</td>\n",
       "      <td>0.459204</td>\n",
       "      <td>0.552498</td>\n",
       "      <td>0.271193</td>\n",
       "      <td>0.011920</td>\n",
       "      <td>0.096320</td>\n",
       "      <td>0.362594</td>\n",
       "      <td>0.025717</td>\n",
       "      <td>-0.275441</td>\n",
       "    </tr>\n",
       "    <tr>\n",
       "      <th>OPXVolume</th>\n",
       "      <td>-0.025021</td>\n",
       "      <td>-0.037942</td>\n",
       "      <td>-0.025356</td>\n",
       "      <td>0.030025</td>\n",
       "      <td>1.000000</td>\n",
       "      <td>0.036008</td>\n",
       "      <td>-0.028350</td>\n",
       "      <td>0.017479</td>\n",
       "      <td>-0.022376</td>\n",
       "      <td>0.012976</td>\n",
       "      <td>-0.021166</td>\n",
       "      <td>0.011124</td>\n",
       "      <td>0.019433</td>\n",
       "      <td>-0.045688</td>\n",
       "    </tr>\n",
       "    <tr>\n",
       "      <th>MaxOutputRate</th>\n",
       "      <td>-0.275381</td>\n",
       "      <td>-0.265740</td>\n",
       "      <td>-0.700357</td>\n",
       "      <td>0.032395</td>\n",
       "      <td>0.036008</td>\n",
       "      <td>1.000000</td>\n",
       "      <td>-0.329747</td>\n",
       "      <td>0.495820</td>\n",
       "      <td>-0.414928</td>\n",
       "      <td>-0.237687</td>\n",
       "      <td>0.195218</td>\n",
       "      <td>-0.279580</td>\n",
       "      <td>0.720934</td>\n",
       "      <td>-0.051226</td>\n",
       "    </tr>\n",
       "    <tr>\n",
       "      <th>Sensor1</th>\n",
       "      <td>0.300380</td>\n",
       "      <td>-0.095603</td>\n",
       "      <td>0.487241</td>\n",
       "      <td>0.459204</td>\n",
       "      <td>-0.028350</td>\n",
       "      <td>-0.329747</td>\n",
       "      <td>1.000000</td>\n",
       "      <td>-0.112319</td>\n",
       "      <td>0.220172</td>\n",
       "      <td>-0.251814</td>\n",
       "      <td>0.323736</td>\n",
       "      <td>0.298421</td>\n",
       "      <td>-0.283317</td>\n",
       "      <td>-0.049679</td>\n",
       "    </tr>\n",
       "    <tr>\n",
       "      <th>Sensor2</th>\n",
       "      <td>-0.185745</td>\n",
       "      <td>-0.359706</td>\n",
       "      <td>-0.349000</td>\n",
       "      <td>0.552498</td>\n",
       "      <td>0.017479</td>\n",
       "      <td>0.495820</td>\n",
       "      <td>-0.112319</td>\n",
       "      <td>1.000000</td>\n",
       "      <td>-0.196702</td>\n",
       "      <td>-0.267050</td>\n",
       "      <td>0.142486</td>\n",
       "      <td>-0.128902</td>\n",
       "      <td>0.403439</td>\n",
       "      <td>-0.063876</td>\n",
       "    </tr>\n",
       "    <tr>\n",
       "      <th>Sensor3</th>\n",
       "      <td>0.225476</td>\n",
       "      <td>-0.038248</td>\n",
       "      <td>0.652875</td>\n",
       "      <td>0.271193</td>\n",
       "      <td>-0.022376</td>\n",
       "      <td>-0.414928</td>\n",
       "      <td>0.220172</td>\n",
       "      <td>-0.196702</td>\n",
       "      <td>1.000000</td>\n",
       "      <td>0.260660</td>\n",
       "      <td>-0.378061</td>\n",
       "      <td>0.377167</td>\n",
       "      <td>-0.353230</td>\n",
       "      <td>-0.151502</td>\n",
       "    </tr>\n",
       "    <tr>\n",
       "      <th>Sensor4</th>\n",
       "      <td>0.191248</td>\n",
       "      <td>0.121002</td>\n",
       "      <td>0.328727</td>\n",
       "      <td>0.011920</td>\n",
       "      <td>0.012976</td>\n",
       "      <td>-0.237687</td>\n",
       "      <td>-0.251814</td>\n",
       "      <td>-0.267050</td>\n",
       "      <td>0.260660</td>\n",
       "      <td>1.000000</td>\n",
       "      <td>-0.328689</td>\n",
       "      <td>0.044806</td>\n",
       "      <td>-0.145191</td>\n",
       "      <td>0.027741</td>\n",
       "    </tr>\n",
       "    <tr>\n",
       "      <th>Sensor5</th>\n",
       "      <td>0.057613</td>\n",
       "      <td>-0.010433</td>\n",
       "      <td>-0.187126</td>\n",
       "      <td>0.096320</td>\n",
       "      <td>-0.021166</td>\n",
       "      <td>0.195218</td>\n",
       "      <td>0.323736</td>\n",
       "      <td>0.142486</td>\n",
       "      <td>-0.378061</td>\n",
       "      <td>-0.328689</td>\n",
       "      <td>1.000000</td>\n",
       "      <td>0.039315</td>\n",
       "      <td>0.133437</td>\n",
       "      <td>0.054178</td>\n",
       "    </tr>\n",
       "    <tr>\n",
       "      <th>Sensor5.1</th>\n",
       "      <td>0.395332</td>\n",
       "      <td>-0.256861</td>\n",
       "      <td>0.512622</td>\n",
       "      <td>0.362594</td>\n",
       "      <td>0.011124</td>\n",
       "      <td>-0.279580</td>\n",
       "      <td>0.298421</td>\n",
       "      <td>-0.128902</td>\n",
       "      <td>0.377167</td>\n",
       "      <td>0.044806</td>\n",
       "      <td>0.039315</td>\n",
       "      <td>1.000000</td>\n",
       "      <td>-0.195042</td>\n",
       "      <td>-0.161910</td>\n",
       "    </tr>\n",
       "    <tr>\n",
       "      <th>DaysSinceMaintenance</th>\n",
       "      <td>-0.188489</td>\n",
       "      <td>-0.179838</td>\n",
       "      <td>-0.471644</td>\n",
       "      <td>0.025717</td>\n",
       "      <td>0.019433</td>\n",
       "      <td>0.720934</td>\n",
       "      <td>-0.283317</td>\n",
       "      <td>0.403439</td>\n",
       "      <td>-0.353230</td>\n",
       "      <td>-0.145191</td>\n",
       "      <td>0.133437</td>\n",
       "      <td>-0.195042</td>\n",
       "      <td>1.000000</td>\n",
       "      <td>0.014767</td>\n",
       "    </tr>\n",
       "    <tr>\n",
       "      <th>Target</th>\n",
       "      <td>0.034159</td>\n",
       "      <td>0.390486</td>\n",
       "      <td>-0.087479</td>\n",
       "      <td>-0.275441</td>\n",
       "      <td>-0.045688</td>\n",
       "      <td>-0.051226</td>\n",
       "      <td>-0.049679</td>\n",
       "      <td>-0.063876</td>\n",
       "      <td>-0.151502</td>\n",
       "      <td>0.027741</td>\n",
       "      <td>0.054178</td>\n",
       "      <td>-0.161910</td>\n",
       "      <td>0.014767</td>\n",
       "      <td>1.000000</td>\n",
       "    </tr>\n",
       "  </tbody>\n",
       "</table>\n",
       "</div>"
      ],
      "text/plain": [
       "                      ComponentAge  MonthlyRunTime  Location  FlowRate  \\\n",
       "ComponentAge              1.000000       -0.003261  0.486916  0.259454   \n",
       "MonthlyRunTime           -0.003261        1.000000 -0.032970 -0.686745   \n",
       "Location                  0.486916       -0.032970  1.000000  0.390645   \n",
       "FlowRate                  0.259454       -0.686745  0.390645  1.000000   \n",
       "OPXVolume                -0.025021       -0.037942 -0.025356  0.030025   \n",
       "MaxOutputRate            -0.275381       -0.265740 -0.700357  0.032395   \n",
       "Sensor1                   0.300380       -0.095603  0.487241  0.459204   \n",
       "Sensor2                  -0.185745       -0.359706 -0.349000  0.552498   \n",
       "Sensor3                   0.225476       -0.038248  0.652875  0.271193   \n",
       "Sensor4                   0.191248        0.121002  0.328727  0.011920   \n",
       "Sensor5                   0.057613       -0.010433 -0.187126  0.096320   \n",
       "Sensor5.1                 0.395332       -0.256861  0.512622  0.362594   \n",
       "DaysSinceMaintenance     -0.188489       -0.179838 -0.471644  0.025717   \n",
       "Target                    0.034159        0.390486 -0.087479 -0.275441   \n",
       "\n",
       "                      OPXVolume  MaxOutputRate   Sensor1   Sensor2   Sensor3  \\\n",
       "ComponentAge          -0.025021      -0.275381  0.300380 -0.185745  0.225476   \n",
       "MonthlyRunTime        -0.037942      -0.265740 -0.095603 -0.359706 -0.038248   \n",
       "Location              -0.025356      -0.700357  0.487241 -0.349000  0.652875   \n",
       "FlowRate               0.030025       0.032395  0.459204  0.552498  0.271193   \n",
       "OPXVolume              1.000000       0.036008 -0.028350  0.017479 -0.022376   \n",
       "MaxOutputRate          0.036008       1.000000 -0.329747  0.495820 -0.414928   \n",
       "Sensor1               -0.028350      -0.329747  1.000000 -0.112319  0.220172   \n",
       "Sensor2                0.017479       0.495820 -0.112319  1.000000 -0.196702   \n",
       "Sensor3               -0.022376      -0.414928  0.220172 -0.196702  1.000000   \n",
       "Sensor4                0.012976      -0.237687 -0.251814 -0.267050  0.260660   \n",
       "Sensor5               -0.021166       0.195218  0.323736  0.142486 -0.378061   \n",
       "Sensor5.1              0.011124      -0.279580  0.298421 -0.128902  0.377167   \n",
       "DaysSinceMaintenance   0.019433       0.720934 -0.283317  0.403439 -0.353230   \n",
       "Target                -0.045688      -0.051226 -0.049679 -0.063876 -0.151502   \n",
       "\n",
       "                       Sensor4   Sensor5  Sensor5.1  DaysSinceMaintenance  \\\n",
       "ComponentAge          0.191248  0.057613   0.395332             -0.188489   \n",
       "MonthlyRunTime        0.121002 -0.010433  -0.256861             -0.179838   \n",
       "Location              0.328727 -0.187126   0.512622             -0.471644   \n",
       "FlowRate              0.011920  0.096320   0.362594              0.025717   \n",
       "OPXVolume             0.012976 -0.021166   0.011124              0.019433   \n",
       "MaxOutputRate        -0.237687  0.195218  -0.279580              0.720934   \n",
       "Sensor1              -0.251814  0.323736   0.298421             -0.283317   \n",
       "Sensor2              -0.267050  0.142486  -0.128902              0.403439   \n",
       "Sensor3               0.260660 -0.378061   0.377167             -0.353230   \n",
       "Sensor4               1.000000 -0.328689   0.044806             -0.145191   \n",
       "Sensor5              -0.328689  1.000000   0.039315              0.133437   \n",
       "Sensor5.1             0.044806  0.039315   1.000000             -0.195042   \n",
       "DaysSinceMaintenance -0.145191  0.133437  -0.195042              1.000000   \n",
       "Target                0.027741  0.054178  -0.161910              0.014767   \n",
       "\n",
       "                        Target  \n",
       "ComponentAge          0.034159  \n",
       "MonthlyRunTime        0.390486  \n",
       "Location             -0.087479  \n",
       "FlowRate             -0.275441  \n",
       "OPXVolume            -0.045688  \n",
       "MaxOutputRate        -0.051226  \n",
       "Sensor1              -0.049679  \n",
       "Sensor2              -0.063876  \n",
       "Sensor3              -0.151502  \n",
       "Sensor4               0.027741  \n",
       "Sensor5               0.054178  \n",
       "Sensor5.1            -0.161910  \n",
       "DaysSinceMaintenance  0.014767  \n",
       "Target                1.000000  "
      ]
     },
     "execution_count": 13,
     "metadata": {},
     "output_type": "execute_result"
    }
   ],
   "source": [
    "data.corr()"
   ]
  },
  {
   "cell_type": "markdown",
   "id": "50c43127",
   "metadata": {},
   "source": [
    "### Distribution Analysis:\n",
    "\n",
    "Now that we are familiar with basic data characteristics, let us study distribution of various variables. Let us start with numeric variables\n",
    "\n",
    "Lets start by plotting histograms and using the following commands:"
   ]
  },
  {
   "cell_type": "code",
   "execution_count": 14,
   "id": "1f083b08",
   "metadata": {},
   "outputs": [
    {
     "data": {
      "image/png": "[encoded data removed]",
      "text/plain": [
       "<Figure size 2160x1440 with 16 Axes>"
      ]
     },
     "metadata": {
      "needs_background": "light"
     },
     "output_type": "display_data"
    }
   ],
   "source": [
    "# Let’s look at the histogram\n",
    "data.hist(bins=50, figsize=(30,20));"
   ]
  },
  {
   "cell_type": "code",
   "execution_count": 15,
   "id": "8b09da4a",
   "metadata": {},
   "outputs": [
    {
     "data": {
      "text/plain": [
       "<AxesSubplot:>"
      ]
     },
     "execution_count": 15,
     "metadata": {},
     "output_type": "execute_result"
    },
    {
     "data": {
      "image/png": "[encoded data removed]",
      "text/plain": [
       "<Figure size 432x288 with 1 Axes>"
      ]
     },
     "metadata": {
      "needs_background": "light"
     },
     "output_type": "display_data"
    }
   ],
   "source": [
    "# Just a sample to check extreme values or outliers\n",
    "# This confirms the presence of extreme values or outliers.\n",
    "data.boxplot(rot=45)"
   ]
  },
  {
   "cell_type": "markdown",
   "id": "27416fca",
   "metadata": {},
   "source": [
    "# Correlation Between Variables"
   ]
  },
  {
   "cell_type": "code",
   "execution_count": 23,
   "id": "a1e331fe",
   "metadata": {},
   "outputs": [],
   "source": [
    "import matplotlib.pyplot as plt\n",
    "import seaborn as sns\n",
    "import numpy as np\n",
    "import pandas as pd\n",
    "import seaborn as sns\n",
    "import matplotlib.pyplot as plt\n",
    "from scipy.stats import norm"
   ]
  },
  {
   "cell_type": "code",
   "execution_count": 24,
   "id": "f5e9bbaa",
   "metadata": {},
   "outputs": [
    {
     "data": {
      "text/plain": [
       "<AxesSubplot:>"
      ]
     },
     "execution_count": 24,
     "metadata": {},
     "output_type": "execute_result"
    },
    {
     "data": {
      "image/png": "[encoded data removed]",
      "text/plain": [
       "<Figure size 864x720 with 2 Axes>"
      ]
     },
     "metadata": {
      "needs_background": "light"
     },
     "output_type": "display_data"
    }
   ],
   "source": [
    "corrmat = data.corr(method='spearman')\n",
    "f, ax = plt.subplots(figsize=(12, 10))\n",
    "sns.heatmap(corrmat, ax=ax, cmap=\"YlGnBu\", linewidths=0.1)"
   ]
  },
  {
   "cell_type": "code",
   "execution_count": 25,
   "id": "8927e44a",
   "metadata": {},
   "outputs": [
    {
     "data": {
      "image/png": "[encoded data removed]",
      "text/plain": [
       "<Figure size 1080x720 with 2 Axes>"
      ]
     },
     "metadata": {
      "needs_background": "light"
     },
     "output_type": "display_data"
    }
   ],
   "source": [
    "import matplotlib.pyplot as plt\n",
    "import seaborn as sns\n",
    "%matplotlib inline \n",
    "\n",
    "corr_matrix=data.corr()\n",
    "fig,ax=plt.subplots(figsize=(15,10))\n",
    "ax=sns.heatmap(corr_matrix,\n",
    "               annot=True,\n",
    "               linewidths=0.5,\n",
    "               fmt=\".2f\"\n",
    "              )"
   ]
  },
  {
   "cell_type": "code",
   "execution_count": 26,
   "id": "201e5e60",
   "metadata": {
    "scrolled": true
   },
   "outputs": [
    {
     "data": {
      "text/plain": [
       "0    5220\n",
       "1    1277\n",
       "Name: Target, dtype: int64"
      ]
     },
     "execution_count": 26,
     "metadata": {},
     "output_type": "execute_result"
    }
   ],
   "source": [
    "data['Target'].value_counts()"
   ]
  },
  {
   "cell_type": "code",
   "execution_count": 27,
   "id": "9b019395",
   "metadata": {},
   "outputs": [
    {
     "name": "stdout",
     "output_type": "stream",
     "text": [
      "Percentage of Target=0: 80.34%\n",
      "Percentage of Target=1: 19.66%\n"
     ]
    }
   ],
   "source": [
    "countNo = len(data[data.Target == 0])\n",
    "countHave = len(data[data.Target == 1])\n",
    "print(\"Percentage of Target=0: {:.2f}%\".format((countNo / (len(data.Target))*100)))\n",
    "print(\"Percentage of Target=1: {:.2f}%\".format((countHave / (len(data.Target))*100)))"
   ]
  },
  {
   "cell_type": "markdown",
   "id": "32d0e667",
   "metadata": {},
   "source": [
    "### Challenge of Imbalanced Classification\n",
    "\n",
    "Many of the classification predictive modelling problems that we are interested in solving in practice are imbalanced.\n",
    "\n",
    "As such, it is surprising that imbalanced classification does not get more attention than it does.\n",
    "\n",
    "Below is a list of eight examples of problem domains where the class distribution of examples is inherently imbalanced.\n",
    "\n",
    "- Fraud Detection.\n",
    "- Claim Prediction\n",
    "- Churn Prediction.\n",
    "- Spam Detection.\n",
    "- Anomaly Detection.\n",
    "- Outlier Detection.\n",
    "- Intrusion Detection.\n",
    "- Conversion Prediction."
   ]
  },
  {
   "cell_type": "markdown",
   "id": "4b9517e2",
   "metadata": {},
   "source": [
    "#### Imbalanced classification problems are those classification tasks where the distribution of examples across the classes is not equal."
   ]
  },
  {
   "cell_type": "markdown",
   "id": "77f172d6",
   "metadata": {},
   "source": [
    "#### Slight Imbalance. Where the distribution of examples is uneven by a small amount in the training dataset (e.g. 4:6)."
   ]
  },
  {
   "cell_type": "markdown",
   "id": "2e6d9490",
   "metadata": {},
   "source": [
    "#### These problems require specialised techniques including:\n",
    "- Performance Metrics like F-measure and G-mean.\n",
    "- Data Sampling like SMOTE and ENN.\n",
    "- Cost-Sensitive Algorithms like Decision Trees.\n",
    "- One-Class Algorithms like SVM.\n",
    "- Post-Processing like Threshold Moving and Calibration."
   ]
  },
  {
   "cell_type": "markdown",
   "id": "9740cb85",
   "metadata": {},
   "source": [
    "### from above we have got to understand that high imbalanced data. we need go for SMOTE: oversampling technique"
   ]
  },
  {
   "cell_type": "code",
   "execution_count": 28,
   "id": "81bb4905",
   "metadata": {},
   "outputs": [],
   "source": [
    "data['ComponentAge'] = data['ComponentAge'].fillna(data['ComponentAge'].mean())\n",
    "data['OPXVolume'] = data['OPXVolume'].fillna(data['OPXVolume'].mean())\n",
    "data['Sensor1'] = data['Sensor1'].fillna(data['Sensor1'].mean())\n",
    "data['Sensor2'] = data['Sensor2'].fillna(data['Sensor2'].mean())\n",
    "data['Sensor3'] = data['Sensor3'].fillna(data['Sensor3'].mean())\n",
    "data['Sensor4'] = data['Sensor4'].fillna(data['Sensor4'].mean())\n",
    "data['Sensor5'] = data['Sensor5'].fillna(data['Sensor5'].mean())\n",
    "data['Sensor5.1'] = data['Sensor5.1'].fillna(data['Sensor5.1'].mean())"
   ]
  },
  {
   "cell_type": "code",
   "execution_count": 29,
   "id": "3946d60e",
   "metadata": {},
   "outputs": [
    {
     "data": {
      "text/plain": [
       "ComponentAge            0\n",
       "MonthlyRunTime          0\n",
       "Location                0\n",
       "FlowRate                0\n",
       "OPXVolume               0\n",
       "MaxOutputRate           0\n",
       "Sensor1                 0\n",
       "Sensor2                 0\n",
       "Sensor3                 0\n",
       "Sensor4                 0\n",
       "Sensor5                 0\n",
       "Sensor5.1               0\n",
       "DaysSinceMaintenance    0\n",
       "Target                  0\n",
       "dtype: int64"
      ]
     },
     "execution_count": 29,
     "metadata": {},
     "output_type": "execute_result"
    }
   ],
   "source": [
    "# check again no NULL values\n",
    "data.isnull().sum()"
   ]
  },
  {
   "cell_type": "code",
   "execution_count": 30,
   "id": "8ae0796f",
   "metadata": {},
   "outputs": [
    {
     "name": "stdout",
     "output_type": "stream",
     "text": [
      "<class 'pandas.core.frame.DataFrame'>\n",
      "RangeIndex: 6497 entries, 0 to 6496\n",
      "Data columns (total 14 columns):\n",
      " #   Column                Non-Null Count  Dtype  \n",
      "---  ------                --------------  -----  \n",
      " 0   ComponentAge          6497 non-null   float64\n",
      " 1   MonthlyRunTime        6497 non-null   float64\n",
      " 2   Location              6497 non-null   int64  \n",
      " 3   FlowRate              6497 non-null   float64\n",
      " 4   OPXVolume             6497 non-null   float64\n",
      " 5   MaxOutputRate         6497 non-null   float64\n",
      " 6   Sensor1               6497 non-null   float64\n",
      " 7   Sensor2               6497 non-null   float64\n",
      " 8   Sensor3               6497 non-null   float64\n",
      " 9   Sensor4               6497 non-null   float64\n",
      " 10  Sensor5               6497 non-null   float64\n",
      " 11  Sensor5.1             6497 non-null   float64\n",
      " 12  DaysSinceMaintenance  6497 non-null   float64\n",
      " 13  Target                6497 non-null   int64  \n",
      "dtypes: float64(12), int64(2)\n",
      "memory usage: 710.7 KB\n"
     ]
    }
   ],
   "source": [
    "# check info again and To get a quick overview of the dataset \n",
    "data.info()"
   ]
  },
  {
   "cell_type": "code",
   "execution_count": 31,
   "id": "7b68db2d",
   "metadata": {},
   "outputs": [],
   "source": [
    "X = np.array(data.loc[:, data.columns != 'Target'])\n",
    "y = np.array(data.loc[:, data.columns == 'Target'])"
   ]
  },
  {
   "cell_type": "markdown",
   "id": "3b500927",
   "metadata": {},
   "source": [
    "## our data is Imbalanced Dataset"
   ]
  },
  {
   "cell_type": "code",
   "execution_count": 32,
   "id": "e1303b00",
   "metadata": {},
   "outputs": [
    {
     "name": "stdout",
     "output_type": "stream",
     "text": [
      "Requirement already satisfied: imblearn in c:\\users\\emma_\\anaconda3\\lib\\site-packages (0.0)\n",
      "Requirement already satisfied: imbalanced-learn in c:\\users\\emma_\\anaconda3\\lib\\site-packages (from imblearn) (0.9.1)\n",
      "Requirement already satisfied: scikit-learn>=1.1.0 in c:\\users\\emma_\\anaconda3\\lib\\site-packages (from imbalanced-learn->imblearn) (1.1.1)\n",
      "Requirement already satisfied: joblib>=1.0.0 in c:\\users\\emma_\\anaconda3\\lib\\site-packages (from imbalanced-learn->imblearn) (1.0.1)\n",
      "Requirement already satisfied: scipy>=1.3.2 in c:\\users\\emma_\\anaconda3\\lib\\site-packages (from imbalanced-learn->imblearn) (1.6.2)\n",
      "Requirement already satisfied: threadpoolctl>=2.0.0 in c:\\users\\emma_\\anaconda3\\lib\\site-packages (from imbalanced-learn->imblearn) (2.2.0)\n",
      "Requirement already satisfied: numpy>=1.17.3 in c:\\users\\emma_\\anaconda3\\lib\\site-packages (from imbalanced-learn->imblearn) (1.20.3)\n",
      "Note: you may need to restart the kernel to use updated packages.\n"
     ]
    }
   ],
   "source": [
    "pip install imblearn"
   ]
  },
  {
   "cell_type": "markdown",
   "id": "bcebc5ca",
   "metadata": {},
   "source": [
    "### split the dataset to train 70% and test 30%"
   ]
  },
  {
   "cell_type": "code",
   "execution_count": 33,
   "id": "21789058",
   "metadata": {},
   "outputs": [
    {
     "name": "stdout",
     "output_type": "stream",
     "text": [
      "Number target X_train dataset:  (4547, 13)\n",
      "Number target y_train dataset:  (4547, 1)\n",
      "Number target X_test dataset:  (1950, 13)\n",
      "Number target y_test dataset:  (1950, 1)\n"
     ]
    }
   ],
   "source": [
    "import imblearn\n",
    "from imblearn.over_sampling import SMOTE\n",
    "\n",
    "from sklearn.model_selection import train_test_split\n",
    "\n",
    "X_train, X_test, y_train, y_test = train_test_split(X, y, test_size=0.3, random_state=0)\n",
    "\n",
    "print(\"Number target X_train dataset: \", X_train.shape)\n",
    "print(\"Number target y_train dataset: \", y_train.shape)\n",
    "print(\"Number target X_test dataset: \", X_test.shape)\n",
    "print(\"Number target y_test dataset: \", y_test.shape)"
   ]
  },
  {
   "cell_type": "markdown",
   "id": "9ff78a1d",
   "metadata": {},
   "source": [
    "### Overcoming Imbalanced Dataset using SMOTE Technique"
   ]
  },
  {
   "cell_type": "markdown",
   "id": "93dc65da",
   "metadata": {},
   "source": [
    "### using SMOTE: oversampling technique"
   ]
  },
  {
   "cell_type": "code",
   "execution_count": 34,
   "id": "039bb07b",
   "metadata": {},
   "outputs": [
    {
     "name": "stdout",
     "output_type": "stream",
     "text": [
      "Before OverSampling, counts of label '1': [880]\n",
      "Before OverSampling, counts of label '0': [3667] \n",
      "\n",
      "After OverSampling, the shape of train_X: (7334, 13)\n",
      "After OverSampling, the shape of train_y: (7334,) \n",
      "\n",
      "After OverSampling, counts of label '1': 3667\n",
      "After OverSampling, counts of label '0': 3667\n"
     ]
    }
   ],
   "source": [
    "print(\"Before OverSampling, counts of label '1': {}\".format(sum(y_train==1)))\n",
    "print(\"Before OverSampling, counts of label '0': {} \\n\".format(sum(y_train==0)))\n",
    "\n",
    "sm = SMOTE(random_state=2)\n",
    "X_train_res, y_train_res = sm.fit_resample(X_train, y_train.ravel())\n",
    "\n",
    "print('After OverSampling, the shape of train_X: {}'.format(X_train_res.shape))\n",
    "print('After OverSampling, the shape of train_y: {} \\n'.format(y_train_res.shape))\n",
    "\n",
    "print(\"After OverSampling, counts of label '1': {}\".format(sum(y_train_res==1)))\n",
    "print(\"After OverSampling, counts of label '0': {}\".format(sum(y_train_res==0)))"
   ]
  },
  {
   "cell_type": "markdown",
   "id": "df80cc21",
   "metadata": {},
   "source": [
    "### Most machine learning algorithms and performance metrics assume an equal number of examples in each class.\n",
    "\n",
    "### If you use standard methods for imbalanced classification, you will get poor results or even results that look good, but are dangerously misleading (e.g. classification accuracy)."
   ]
  },
  {
   "cell_type": "code",
   "execution_count": 35,
   "id": "24ace016",
   "metadata": {},
   "outputs": [],
   "source": [
    "# Models from Scikit-Learn\n",
    "from sklearn.linear_model import LogisticRegression\n",
    "from sklearn.linear_model import LogisticRegression\n",
    "from sklearn.neighbors import KNeighborsClassifier\n",
    "from sklearn.ensemble import RandomForestClassifier\n",
    "\n",
    "# Model Evaluations\n",
    "from sklearn.model_selection import train_test_split,cross_val_score\n",
    "from sklearn.model_selection import RandomizedSearchCV,GridSearchCV\n",
    "from sklearn.metrics import confusion_matrix, classification_report\n",
    "from sklearn.metrics import roc_curve,plot_roc_curve"
   ]
  },
  {
   "cell_type": "markdown",
   "id": "183249d5",
   "metadata": {},
   "source": [
    "# Machine Learning"
   ]
  },
  {
   "cell_type": "markdown",
   "id": "ed2c7693",
   "metadata": {},
   "source": [
    "# Logistic Regression\n"
   ]
  },
  {
   "cell_type": "code",
   "execution_count": 36,
   "id": "c6009085",
   "metadata": {},
   "outputs": [],
   "source": [
    "lr=LogisticRegression()"
   ]
  },
  {
   "cell_type": "code",
   "execution_count": 37,
   "id": "0551b916",
   "metadata": {},
   "outputs": [
    {
     "name": "stderr",
     "output_type": "stream",
     "text": [
      "C:\\Users\\emma_\\anaconda3\\lib\\site-packages\\sklearn\\linear_model\\_logistic.py:444: ConvergenceWarning: lbfgs failed to converge (status=1):\n",
      "STOP: TOTAL NO. of ITERATIONS REACHED LIMIT.\n",
      "\n",
      "Increase the number of iterations (max_iter) or scale the data as shown in:\n",
      "    https://scikit-learn.org/stable/modules/preprocessing.html\n",
      "Please also refer to the documentation for alternative solver options:\n",
      "    https://scikit-learn.org/stable/modules/linear_model.html#logistic-regression\n",
      "  n_iter_i = _check_optimize_result(\n"
     ]
    },
    {
     "data": {
      "text/html": [
       "<style>#sk-container-id-1 {color: black;background-color: white;}#sk-container-id-1 pre{padding: 0;}#sk-container-id-1 div.sk-toggleable {background-color: white;}#sk-container-id-1 label.sk-toggleable__label {cursor: pointer;display: block;width: 100%;margin-bottom: 0;padding: 0.3em;box-sizing: border-box;text-align: center;}#sk-container-id-1 label.sk-toggleable__label-arrow:before {content: \"▸\";float: left;margin-right: 0.25em;color: #696969;}#sk-container-id-1 label.sk-toggleable__label-arrow:hover:before {color: black;}#sk-container-id-1 div.sk-estimator:hover label.sk-toggleable__label-arrow:before {color: black;}#sk-container-id-1 div.sk-toggleable__content {max-height: 0;max-width: 0;overflow: hidden;text-align: left;background-color: #f0f8ff;}#sk-container-id-1 div.sk-toggleable__content pre {margin: 0.2em;color: black;border-radius: 0.25em;background-color: #f0f8ff;}#sk-container-id-1 input.sk-toggleable__control:checked~div.sk-toggleable__content {max-height: 200px;max-width: 100%;overflow: auto;}#sk-container-id-1 input.sk-toggleable__control:checked~label.sk-toggleable__label-arrow:before {content: \"▾\";}#sk-container-id-1 div.sk-estimator input.sk-toggleable__control:checked~label.sk-toggleable__label {background-color: #d4ebff;}#sk-container-id-1 div.sk-label input.sk-toggleable__control:checked~label.sk-toggleable__label {background-color: #d4ebff;}#sk-container-id-1 input.sk-hidden--visually {border: 0;clip: rect(1px 1px 1px 1px);clip: rect(1px, 1px, 1px, 1px);height: 1px;margin: -1px;overflow: hidden;padding: 0;position: absolute;width: 1px;}#sk-container-id-1 div.sk-estimator {font-family: monospace;background-color: #f0f8ff;border: 1px dotted black;border-radius: 0.25em;box-sizing: border-box;margin-bottom: 0.5em;}#sk-container-id-1 div.sk-estimator:hover {background-color: #d4ebff;}#sk-container-id-1 div.sk-parallel-item::after {content: \"\";width: 100%;border-bottom: 1px solid gray;flex-grow: 1;}#sk-container-id-1 div.sk-label:hover label.sk-toggleable__label {background-color: #d4ebff;}#sk-container-id-1 div.sk-serial::before {content: \"\";position: absolute;border-left: 1px solid gray;box-sizing: border-box;top: 0;bottom: 0;left: 50%;z-index: 0;}#sk-container-id-1 div.sk-serial {display: flex;flex-direction: column;align-items: center;background-color: white;padding-right: 0.2em;padding-left: 0.2em;position: relative;}#sk-container-id-1 div.sk-item {position: relative;z-index: 1;}#sk-container-id-1 div.sk-parallel {display: flex;align-items: stretch;justify-content: center;background-color: white;position: relative;}#sk-container-id-1 div.sk-item::before, #sk-container-id-1 div.sk-parallel-item::before {content: \"\";position: absolute;border-left: 1px solid gray;box-sizing: border-box;top: 0;bottom: 0;left: 50%;z-index: -1;}#sk-container-id-1 div.sk-parallel-item {display: flex;flex-direction: column;z-index: 1;position: relative;background-color: white;}#sk-container-id-1 div.sk-parallel-item:first-child::after {align-self: flex-end;width: 50%;}#sk-container-id-1 div.sk-parallel-item:last-child::after {align-self: flex-start;width: 50%;}#sk-container-id-1 div.sk-parallel-item:only-child::after {width: 0;}#sk-container-id-1 div.sk-dashed-wrapped {border: 1px dashed gray;margin: 0 0.4em 0.5em 0.4em;box-sizing: border-box;padding-bottom: 0.4em;background-color: white;}#sk-container-id-1 div.sk-label label {font-family: monospace;font-weight: bold;display: inline-block;line-height: 1.2em;}#sk-container-id-1 div.sk-label-container {text-align: center;}#sk-container-id-1 div.sk-container {/* jupyter's `normalize.less` sets `[hidden] { display: none; }` but bootstrap.min.css set `[hidden] { display: none !important; }` so we also need the `!important` here to be able to override the default hidden behavior on the sphinx rendered scikit-learn.org. See: https://github.com/scikit-learn/scikit-learn/issues/21755 */display: inline-block !important;position: relative;}#sk-container-id-1 div.sk-text-repr-fallback {display: none;}</style><div id=\"sk-container-id-1\" class=\"sk-top-container\"><div class=\"sk-text-repr-fallback\"><pre>LogisticRegression()</pre><b>In a Jupyter environment, please rerun this cell to show the HTML representation or trust the notebook. <br />On GitHub, the HTML representation is unable to render, please try loading this page with nbviewer.org.</b></div><div class=\"sk-container\" hidden><div class=\"sk-item\"><div class=\"sk-estimator sk-toggleable\"><input class=\"sk-toggleable__control sk-hidden--visually\" id=\"sk-estimator-id-1\" type=\"checkbox\" checked><label for=\"sk-estimator-id-1\" class=\"sk-toggleable__label sk-toggleable__label-arrow\">LogisticRegression</label><div class=\"sk-toggleable__content\"><pre>LogisticRegression()</pre></div></div></div></div></div>"
      ],
      "text/plain": [
       "LogisticRegression()"
      ]
     },
     "execution_count": 37,
     "metadata": {},
     "output_type": "execute_result"
    }
   ],
   "source": [
    "lr.fit(X_train_res, y_train_res)"
   ]
  },
  {
   "cell_type": "code",
   "execution_count": 38,
   "id": "fd70a76e",
   "metadata": {},
   "outputs": [
    {
     "data": {
      "text/plain": [
       "0.7338423779656394"
      ]
     },
     "execution_count": 38,
     "metadata": {},
     "output_type": "execute_result"
    }
   ],
   "source": [
    "lr.score(X_train_res, y_train_res)"
   ]
  },
  {
   "cell_type": "code",
   "execution_count": 39,
   "id": "8c4916fd",
   "metadata": {},
   "outputs": [],
   "source": [
    "lr_y_preds=lr.predict(X_test)"
   ]
  },
  {
   "cell_type": "code",
   "execution_count": 40,
   "id": "cfd7dbf9",
   "metadata": {},
   "outputs": [
    {
     "data": {
      "text/plain": [
       "0.7266666666666667"
      ]
     },
     "execution_count": 40,
     "metadata": {},
     "output_type": "execute_result"
    }
   ],
   "source": [
    "lr.score(X_test,y_test)"
   ]
  },
  {
   "cell_type": "code",
   "execution_count": 41,
   "id": "91a655d1",
   "metadata": {},
   "outputs": [
    {
     "name": "stdout",
     "output_type": "stream",
     "text": [
      "              precision    recall  f1-score   support\n",
      "\n",
      "           0       0.91      0.73      0.81      1553\n",
      "           1       0.40      0.71      0.51       397\n",
      "\n",
      "    accuracy                           0.73      1950\n",
      "   macro avg       0.65      0.72      0.66      1950\n",
      "weighted avg       0.80      0.73      0.75      1950\n",
      "\n"
     ]
    }
   ],
   "source": [
    "print(classification_report(y_test,lr_y_preds))"
   ]
  },
  {
   "cell_type": "markdown",
   "id": "56ded07c",
   "metadata": {},
   "source": [
    "\n",
    "# K-Nearest Neighbour"
   ]
  },
  {
   "cell_type": "code",
   "execution_count": 42,
   "id": "5b33a15d",
   "metadata": {},
   "outputs": [],
   "source": [
    "knn=KNeighborsClassifier()"
   ]
  },
  {
   "cell_type": "code",
   "execution_count": 43,
   "id": "a70125b6",
   "metadata": {},
   "outputs": [
    {
     "data": {
      "text/html": [
       "<style>#sk-container-id-2 {color: black;background-color: white;}#sk-container-id-2 pre{padding: 0;}#sk-container-id-2 div.sk-toggleable {background-color: white;}#sk-container-id-2 label.sk-toggleable__label {cursor: pointer;display: block;width: 100%;margin-bottom: 0;padding: 0.3em;box-sizing: border-box;text-align: center;}#sk-container-id-2 label.sk-toggleable__label-arrow:before {content: \"▸\";float: left;margin-right: 0.25em;color: #696969;}#sk-container-id-2 label.sk-toggleable__label-arrow:hover:before {color: black;}#sk-container-id-2 div.sk-estimator:hover label.sk-toggleable__label-arrow:before {color: black;}#sk-container-id-2 div.sk-toggleable__content {max-height: 0;max-width: 0;overflow: hidden;text-align: left;background-color: #f0f8ff;}#sk-container-id-2 div.sk-toggleable__content pre {margin: 0.2em;color: black;border-radius: 0.25em;background-color: #f0f8ff;}#sk-container-id-2 input.sk-toggleable__control:checked~div.sk-toggleable__content {max-height: 200px;max-width: 100%;overflow: auto;}#sk-container-id-2 input.sk-toggleable__control:checked~label.sk-toggleable__label-arrow:before {content: \"▾\";}#sk-container-id-2 div.sk-estimator input.sk-toggleable__control:checked~label.sk-toggleable__label {background-color: #d4ebff;}#sk-container-id-2 div.sk-label input.sk-toggleable__control:checked~label.sk-toggleable__label {background-color: #d4ebff;}#sk-container-id-2 input.sk-hidden--visually {border: 0;clip: rect(1px 1px 1px 1px);clip: rect(1px, 1px, 1px, 1px);height: 1px;margin: -1px;overflow: hidden;padding: 0;position: absolute;width: 1px;}#sk-container-id-2 div.sk-estimator {font-family: monospace;background-color: #f0f8ff;border: 1px dotted black;border-radius: 0.25em;box-sizing: border-box;margin-bottom: 0.5em;}#sk-container-id-2 div.sk-estimator:hover {background-color: #d4ebff;}#sk-container-id-2 div.sk-parallel-item::after {content: \"\";width: 100%;border-bottom: 1px solid gray;flex-grow: 1;}#sk-container-id-2 div.sk-label:hover label.sk-toggleable__label {background-color: #d4ebff;}#sk-container-id-2 div.sk-serial::before {content: \"\";position: absolute;border-left: 1px solid gray;box-sizing: border-box;top: 0;bottom: 0;left: 50%;z-index: 0;}#sk-container-id-2 div.sk-serial {display: flex;flex-direction: column;align-items: center;background-color: white;padding-right: 0.2em;padding-left: 0.2em;position: relative;}#sk-container-id-2 div.sk-item {position: relative;z-index: 1;}#sk-container-id-2 div.sk-parallel {display: flex;align-items: stretch;justify-content: center;background-color: white;position: relative;}#sk-container-id-2 div.sk-item::before, #sk-container-id-2 div.sk-parallel-item::before {content: \"\";position: absolute;border-left: 1px solid gray;box-sizing: border-box;top: 0;bottom: 0;left: 50%;z-index: -1;}#sk-container-id-2 div.sk-parallel-item {display: flex;flex-direction: column;z-index: 1;position: relative;background-color: white;}#sk-container-id-2 div.sk-parallel-item:first-child::after {align-self: flex-end;width: 50%;}#sk-container-id-2 div.sk-parallel-item:last-child::after {align-self: flex-start;width: 50%;}#sk-container-id-2 div.sk-parallel-item:only-child::after {width: 0;}#sk-container-id-2 div.sk-dashed-wrapped {border: 1px dashed gray;margin: 0 0.4em 0.5em 0.4em;box-sizing: border-box;padding-bottom: 0.4em;background-color: white;}#sk-container-id-2 div.sk-label label {font-family: monospace;font-weight: bold;display: inline-block;line-height: 1.2em;}#sk-container-id-2 div.sk-label-container {text-align: center;}#sk-container-id-2 div.sk-container {/* jupyter's `normalize.less` sets `[hidden] { display: none; }` but bootstrap.min.css set `[hidden] { display: none !important; }` so we also need the `!important` here to be able to override the default hidden behavior on the sphinx rendered scikit-learn.org. See: https://github.com/scikit-learn/scikit-learn/issues/21755 */display: inline-block !important;position: relative;}#sk-container-id-2 div.sk-text-repr-fallback {display: none;}</style><div id=\"sk-container-id-2\" class=\"sk-top-container\"><div class=\"sk-text-repr-fallback\"><pre>KNeighborsClassifier()</pre><b>In a Jupyter environment, please rerun this cell to show the HTML representation or trust the notebook. <br />On GitHub, the HTML representation is unable to render, please try loading this page with nbviewer.org.</b></div><div class=\"sk-container\" hidden><div class=\"sk-item\"><div class=\"sk-estimator sk-toggleable\"><input class=\"sk-toggleable__control sk-hidden--visually\" id=\"sk-estimator-id-2\" type=\"checkbox\" checked><label for=\"sk-estimator-id-2\" class=\"sk-toggleable__label sk-toggleable__label-arrow\">KNeighborsClassifier</label><div class=\"sk-toggleable__content\"><pre>KNeighborsClassifier()</pre></div></div></div></div></div>"
      ],
      "text/plain": [
       "KNeighborsClassifier()"
      ]
     },
     "execution_count": 43,
     "metadata": {},
     "output_type": "execute_result"
    }
   ],
   "source": [
    "knn.fit(X_train_res, y_train_res)"
   ]
  },
  {
   "cell_type": "code",
   "execution_count": 44,
   "id": "5b32de8f",
   "metadata": {},
   "outputs": [
    {
     "data": {
      "text/plain": [
       "0.8869648213798745"
      ]
     },
     "execution_count": 44,
     "metadata": {},
     "output_type": "execute_result"
    }
   ],
   "source": [
    "knn.score(X_train_res, y_train_res)"
   ]
  },
  {
   "cell_type": "code",
   "execution_count": 45,
   "id": "7f9fd83c",
   "metadata": {},
   "outputs": [],
   "source": [
    "knn_y_preds=knn.predict(X_test)"
   ]
  },
  {
   "cell_type": "code",
   "execution_count": 46,
   "id": "5bcd5e8c",
   "metadata": {},
   "outputs": [
    {
     "data": {
      "text/plain": [
       "0.7148717948717949"
      ]
     },
     "execution_count": 46,
     "metadata": {},
     "output_type": "execute_result"
    }
   ],
   "source": [
    "knn.score(X_test,y_test)"
   ]
  },
  {
   "cell_type": "code",
   "execution_count": 47,
   "id": "30ff4837",
   "metadata": {},
   "outputs": [
    {
     "name": "stdout",
     "output_type": "stream",
     "text": [
      "              precision    recall  f1-score   support\n",
      "\n",
      "           0       0.90      0.72      0.80      1553\n",
      "           1       0.39      0.70      0.50       397\n",
      "\n",
      "    accuracy                           0.71      1950\n",
      "   macro avg       0.65      0.71      0.65      1950\n",
      "weighted avg       0.80      0.71      0.74      1950\n",
      "\n"
     ]
    }
   ],
   "source": [
    "print(classification_report(y_test,knn_y_preds))"
   ]
  },
  {
   "cell_type": "markdown",
   "id": "6ed514de",
   "metadata": {},
   "source": [
    "# Random Forest\n"
   ]
  },
  {
   "cell_type": "code",
   "execution_count": 48,
   "id": "e84e7a8d",
   "metadata": {},
   "outputs": [],
   "source": [
    "rf=RandomForestClassifier()"
   ]
  },
  {
   "cell_type": "code",
   "execution_count": 49,
   "id": "b5bf49a2",
   "metadata": {},
   "outputs": [
    {
     "data": {
      "text/html": [
       "<style>#sk-container-id-3 {color: black;background-color: white;}#sk-container-id-3 pre{padding: 0;}#sk-container-id-3 div.sk-toggleable {background-color: white;}#sk-container-id-3 label.sk-toggleable__label {cursor: pointer;display: block;width: 100%;margin-bottom: 0;padding: 0.3em;box-sizing: border-box;text-align: center;}#sk-container-id-3 label.sk-toggleable__label-arrow:before {content: \"▸\";float: left;margin-right: 0.25em;color: #696969;}#sk-container-id-3 label.sk-toggleable__label-arrow:hover:before {color: black;}#sk-container-id-3 div.sk-estimator:hover label.sk-toggleable__label-arrow:before {color: black;}#sk-container-id-3 div.sk-toggleable__content {max-height: 0;max-width: 0;overflow: hidden;text-align: left;background-color: #f0f8ff;}#sk-container-id-3 div.sk-toggleable__content pre {margin: 0.2em;color: black;border-radius: 0.25em;background-color: #f0f8ff;}#sk-container-id-3 input.sk-toggleable__control:checked~div.sk-toggleable__content {max-height: 200px;max-width: 100%;overflow: auto;}#sk-container-id-3 input.sk-toggleable__control:checked~label.sk-toggleable__label-arrow:before {content: \"▾\";}#sk-container-id-3 div.sk-estimator input.sk-toggleable__control:checked~label.sk-toggleable__label {background-color: #d4ebff;}#sk-container-id-3 div.sk-label input.sk-toggleable__control:checked~label.sk-toggleable__label {background-color: #d4ebff;}#sk-container-id-3 input.sk-hidden--visually {border: 0;clip: rect(1px 1px 1px 1px);clip: rect(1px, 1px, 1px, 1px);height: 1px;margin: -1px;overflow: hidden;padding: 0;position: absolute;width: 1px;}#sk-container-id-3 div.sk-estimator {font-family: monospace;background-color: #f0f8ff;border: 1px dotted black;border-radius: 0.25em;box-sizing: border-box;margin-bottom: 0.5em;}#sk-container-id-3 div.sk-estimator:hover {background-color: #d4ebff;}#sk-container-id-3 div.sk-parallel-item::after {content: \"\";width: 100%;border-bottom: 1px solid gray;flex-grow: 1;}#sk-container-id-3 div.sk-label:hover label.sk-toggleable__label {background-color: #d4ebff;}#sk-container-id-3 div.sk-serial::before {content: \"\";position: absolute;border-left: 1px solid gray;box-sizing: border-box;top: 0;bottom: 0;left: 50%;z-index: 0;}#sk-container-id-3 div.sk-serial {display: flex;flex-direction: column;align-items: center;background-color: white;padding-right: 0.2em;padding-left: 0.2em;position: relative;}#sk-container-id-3 div.sk-item {position: relative;z-index: 1;}#sk-container-id-3 div.sk-parallel {display: flex;align-items: stretch;justify-content: center;background-color: white;position: relative;}#sk-container-id-3 div.sk-item::before, #sk-container-id-3 div.sk-parallel-item::before {content: \"\";position: absolute;border-left: 1px solid gray;box-sizing: border-box;top: 0;bottom: 0;left: 50%;z-index: -1;}#sk-container-id-3 div.sk-parallel-item {display: flex;flex-direction: column;z-index: 1;position: relative;background-color: white;}#sk-container-id-3 div.sk-parallel-item:first-child::after {align-self: flex-end;width: 50%;}#sk-container-id-3 div.sk-parallel-item:last-child::after {align-self: flex-start;width: 50%;}#sk-container-id-3 div.sk-parallel-item:only-child::after {width: 0;}#sk-container-id-3 div.sk-dashed-wrapped {border: 1px dashed gray;margin: 0 0.4em 0.5em 0.4em;box-sizing: border-box;padding-bottom: 0.4em;background-color: white;}#sk-container-id-3 div.sk-label label {font-family: monospace;font-weight: bold;display: inline-block;line-height: 1.2em;}#sk-container-id-3 div.sk-label-container {text-align: center;}#sk-container-id-3 div.sk-container {/* jupyter's `normalize.less` sets `[hidden] { display: none; }` but bootstrap.min.css set `[hidden] { display: none !important; }` so we also need the `!important` here to be able to override the default hidden behavior on the sphinx rendered scikit-learn.org. See: https://github.com/scikit-learn/scikit-learn/issues/21755 */display: inline-block !important;position: relative;}#sk-container-id-3 div.sk-text-repr-fallback {display: none;}</style><div id=\"sk-container-id-3\" class=\"sk-top-container\"><div class=\"sk-text-repr-fallback\"><pre>RandomForestClassifier()</pre><b>In a Jupyter environment, please rerun this cell to show the HTML representation or trust the notebook. <br />On GitHub, the HTML representation is unable to render, please try loading this page with nbviewer.org.</b></div><div class=\"sk-container\" hidden><div class=\"sk-item\"><div class=\"sk-estimator sk-toggleable\"><input class=\"sk-toggleable__control sk-hidden--visually\" id=\"sk-estimator-id-3\" type=\"checkbox\" checked><label for=\"sk-estimator-id-3\" class=\"sk-toggleable__label sk-toggleable__label-arrow\">RandomForestClassifier</label><div class=\"sk-toggleable__content\"><pre>RandomForestClassifier()</pre></div></div></div></div></div>"
      ],
      "text/plain": [
       "RandomForestClassifier()"
      ]
     },
     "execution_count": 49,
     "metadata": {},
     "output_type": "execute_result"
    }
   ],
   "source": [
    "rf.fit(X_train_res, y_train_res)"
   ]
  },
  {
   "cell_type": "code",
   "execution_count": 50,
   "id": "b52c835c",
   "metadata": {},
   "outputs": [
    {
     "data": {
      "text/plain": [
       "1.0"
      ]
     },
     "execution_count": 50,
     "metadata": {},
     "output_type": "execute_result"
    }
   ],
   "source": [
    "rf.score(X_train_res, y_train_res)"
   ]
  },
  {
   "cell_type": "code",
   "execution_count": 51,
   "id": "b0945668",
   "metadata": {},
   "outputs": [],
   "source": [
    "rf_y_preds=rf.predict(X_test)"
   ]
  },
  {
   "cell_type": "code",
   "execution_count": 52,
   "id": "86642a3e",
   "metadata": {},
   "outputs": [
    {
     "data": {
      "text/plain": [
       "0.8697435897435898"
      ]
     },
     "execution_count": 52,
     "metadata": {},
     "output_type": "execute_result"
    }
   ],
   "source": [
    "rf.score(X_test,y_test)"
   ]
  },
  {
   "cell_type": "code",
   "execution_count": 53,
   "id": "6d5bf843",
   "metadata": {},
   "outputs": [
    {
     "name": "stdout",
     "output_type": "stream",
     "text": [
      "              precision    recall  f1-score   support\n",
      "\n",
      "           0       0.93      0.90      0.92      1553\n",
      "           1       0.66      0.75      0.70       397\n",
      "\n",
      "    accuracy                           0.87      1950\n",
      "   macro avg       0.80      0.82      0.81      1950\n",
      "weighted avg       0.88      0.87      0.87      1950\n",
      "\n"
     ]
    }
   ],
   "source": [
    "print(classification_report(y_test,rf_y_preds))"
   ]
  },
  {
   "cell_type": "markdown",
   "id": "ef7358b4",
   "metadata": {},
   "source": [
    "### Advance Machine Learning-LightGBM Algorithm\n",
    "\n",
    "### Introduction\n",
    "- The development of Boosting Machines started from AdaBoost to today’s favorite XGBOOST.\n",
    "\n",
    "- No doubt, XGBOOST is the most preferred ML Model simply because it is extremely powerful. But given lots and lots of data, even XGBOOST takes a long time to train.\n",
    "\n",
    "- Here comes LightGBM for rescuse"
   ]
  },
  {
   "cell_type": "markdown",
   "id": "4175a99f",
   "metadata": {},
   "source": [
    "# LightGBM"
   ]
  },
  {
   "cell_type": "code",
   "execution_count": 54,
   "id": "2d3e2171",
   "metadata": {},
   "outputs": [
    {
     "name": "stdout",
     "output_type": "stream",
     "text": [
      "Requirement already satisfied: lightgbm in c:\\users\\emma_\\anaconda3\\lib\\site-packages (3.3.2)\n",
      "Requirement already satisfied: wheel in c:\\users\\emma_\\anaconda3\\lib\\site-packages (from lightgbm) (0.36.2)\n",
      "Requirement already satisfied: scipy in c:\\users\\emma_\\anaconda3\\lib\\site-packages (from lightgbm) (1.6.2)\n",
      "Requirement already satisfied: scikit-learn!=0.22.0 in c:\\users\\emma_\\anaconda3\\lib\\site-packages (from lightgbm) (1.1.1)\n",
      "Requirement already satisfied: numpy in c:\\users\\emma_\\anaconda3\\lib\\site-packages (from lightgbm) (1.20.3)\n",
      "Requirement already satisfied: joblib>=1.0.0 in c:\\users\\emma_\\anaconda3\\lib\\site-packages (from scikit-learn!=0.22.0->lightgbm) (1.0.1)\n",
      "Requirement already satisfied: threadpoolctl>=2.0.0 in c:\\users\\emma_\\anaconda3\\lib\\site-packages (from scikit-learn!=0.22.0->lightgbm) (2.2.0)\n",
      "Note: you may need to restart the kernel to use updated packages.\n"
     ]
    }
   ],
   "source": [
    "pip install lightgbm"
   ]
  },
  {
   "cell_type": "code",
   "execution_count": 55,
   "id": "86fd1062",
   "metadata": {},
   "outputs": [
    {
     "name": "stderr",
     "output_type": "stream",
     "text": [
      "C:\\Users\\emma_\\anaconda3\\lib\\site-packages\\lightgbm\\sklearn.py:736: UserWarning: 'verbose' argument is deprecated and will be removed in a future release of LightGBM. Pass 'log_evaluation()' callback via 'callbacks' argument instead.\n",
      "  _log_warning(\"'verbose' argument is deprecated and will be removed in a future release of LightGBM. \"\n"
     ]
    },
    {
     "data": {
      "text/html": [
       "<style>#sk-container-id-4 {color: black;background-color: white;}#sk-container-id-4 pre{padding: 0;}#sk-container-id-4 div.sk-toggleable {background-color: white;}#sk-container-id-4 label.sk-toggleable__label {cursor: pointer;display: block;width: 100%;margin-bottom: 0;padding: 0.3em;box-sizing: border-box;text-align: center;}#sk-container-id-4 label.sk-toggleable__label-arrow:before {content: \"▸\";float: left;margin-right: 0.25em;color: #696969;}#sk-container-id-4 label.sk-toggleable__label-arrow:hover:before {color: black;}#sk-container-id-4 div.sk-estimator:hover label.sk-toggleable__label-arrow:before {color: black;}#sk-container-id-4 div.sk-toggleable__content {max-height: 0;max-width: 0;overflow: hidden;text-align: left;background-color: #f0f8ff;}#sk-container-id-4 div.sk-toggleable__content pre {margin: 0.2em;color: black;border-radius: 0.25em;background-color: #f0f8ff;}#sk-container-id-4 input.sk-toggleable__control:checked~div.sk-toggleable__content {max-height: 200px;max-width: 100%;overflow: auto;}#sk-container-id-4 input.sk-toggleable__control:checked~label.sk-toggleable__label-arrow:before {content: \"▾\";}#sk-container-id-4 div.sk-estimator input.sk-toggleable__control:checked~label.sk-toggleable__label {background-color: #d4ebff;}#sk-container-id-4 div.sk-label input.sk-toggleable__control:checked~label.sk-toggleable__label {background-color: #d4ebff;}#sk-container-id-4 input.sk-hidden--visually {border: 0;clip: rect(1px 1px 1px 1px);clip: rect(1px, 1px, 1px, 1px);height: 1px;margin: -1px;overflow: hidden;padding: 0;position: absolute;width: 1px;}#sk-container-id-4 div.sk-estimator {font-family: monospace;background-color: #f0f8ff;border: 1px dotted black;border-radius: 0.25em;box-sizing: border-box;margin-bottom: 0.5em;}#sk-container-id-4 div.sk-estimator:hover {background-color: #d4ebff;}#sk-container-id-4 div.sk-parallel-item::after {content: \"\";width: 100%;border-bottom: 1px solid gray;flex-grow: 1;}#sk-container-id-4 div.sk-label:hover label.sk-toggleable__label {background-color: #d4ebff;}#sk-container-id-4 div.sk-serial::before {content: \"\";position: absolute;border-left: 1px solid gray;box-sizing: border-box;top: 0;bottom: 0;left: 50%;z-index: 0;}#sk-container-id-4 div.sk-serial {display: flex;flex-direction: column;align-items: center;background-color: white;padding-right: 0.2em;padding-left: 0.2em;position: relative;}#sk-container-id-4 div.sk-item {position: relative;z-index: 1;}#sk-container-id-4 div.sk-parallel {display: flex;align-items: stretch;justify-content: center;background-color: white;position: relative;}#sk-container-id-4 div.sk-item::before, #sk-container-id-4 div.sk-parallel-item::before {content: \"\";position: absolute;border-left: 1px solid gray;box-sizing: border-box;top: 0;bottom: 0;left: 50%;z-index: -1;}#sk-container-id-4 div.sk-parallel-item {display: flex;flex-direction: column;z-index: 1;position: relative;background-color: white;}#sk-container-id-4 div.sk-parallel-item:first-child::after {align-self: flex-end;width: 50%;}#sk-container-id-4 div.sk-parallel-item:last-child::after {align-self: flex-start;width: 50%;}#sk-container-id-4 div.sk-parallel-item:only-child::after {width: 0;}#sk-container-id-4 div.sk-dashed-wrapped {border: 1px dashed gray;margin: 0 0.4em 0.5em 0.4em;box-sizing: border-box;padding-bottom: 0.4em;background-color: white;}#sk-container-id-4 div.sk-label label {font-family: monospace;font-weight: bold;display: inline-block;line-height: 1.2em;}#sk-container-id-4 div.sk-label-container {text-align: center;}#sk-container-id-4 div.sk-container {/* jupyter's `normalize.less` sets `[hidden] { display: none; }` but bootstrap.min.css set `[hidden] { display: none !important; }` so we also need the `!important` here to be able to override the default hidden behavior on the sphinx rendered scikit-learn.org. See: https://github.com/scikit-learn/scikit-learn/issues/21755 */display: inline-block !important;position: relative;}#sk-container-id-4 div.sk-text-repr-fallback {display: none;}</style><div id=\"sk-container-id-4\" class=\"sk-top-container\"><div class=\"sk-text-repr-fallback\"><pre>LGBMClassifier(learning_rate=0.09, max_depth=-5, random_state=42)</pre><b>In a Jupyter environment, please rerun this cell to show the HTML representation or trust the notebook. <br />On GitHub, the HTML representation is unable to render, please try loading this page with nbviewer.org.</b></div><div class=\"sk-container\" hidden><div class=\"sk-item\"><div class=\"sk-estimator sk-toggleable\"><input class=\"sk-toggleable__control sk-hidden--visually\" id=\"sk-estimator-id-4\" type=\"checkbox\" checked><label for=\"sk-estimator-id-4\" class=\"sk-toggleable__label sk-toggleable__label-arrow\">LGBMClassifier</label><div class=\"sk-toggleable__content\"><pre>LGBMClassifier(learning_rate=0.09, max_depth=-5, random_state=42)</pre></div></div></div></div></div>"
      ],
      "text/plain": [
       "LGBMClassifier(learning_rate=0.09, max_depth=-5, random_state=42)"
      ]
     },
     "execution_count": 55,
     "metadata": {},
     "output_type": "execute_result"
    }
   ],
   "source": [
    "import lightgbm as lgb\n",
    "\n",
    "model = lgb.LGBMClassifier(learning_rate=0.09,max_depth=-5,random_state=42)\n",
    "model.fit(X_train_res, y_train_res,verbose=20,eval_metric='logloss')\n"
   ]
  },
  {
   "cell_type": "code",
   "execution_count": 56,
   "id": "d3d35f97",
   "metadata": {},
   "outputs": [
    {
     "data": {
      "text/plain": [
       "0.9607308426506681"
      ]
     },
     "execution_count": 56,
     "metadata": {},
     "output_type": "execute_result"
    }
   ],
   "source": [
    "model.score(X_train_res, y_train_res)"
   ]
  },
  {
   "cell_type": "code",
   "execution_count": 57,
   "id": "7b9800f3",
   "metadata": {},
   "outputs": [],
   "source": [
    "model_y_preds=model.predict(X_test)"
   ]
  },
  {
   "cell_type": "code",
   "execution_count": 58,
   "id": "e64279ba",
   "metadata": {},
   "outputs": [
    {
     "data": {
      "text/plain": [
       "0.8517948717948718"
      ]
     },
     "execution_count": 58,
     "metadata": {},
     "output_type": "execute_result"
    }
   ],
   "source": [
    "model.score(X_test,y_test)"
   ]
  },
  {
   "cell_type": "code",
   "execution_count": 59,
   "id": "d8acd257",
   "metadata": {},
   "outputs": [
    {
     "name": "stdout",
     "output_type": "stream",
     "text": [
      "              precision    recall  f1-score   support\n",
      "\n",
      "           0       0.92      0.90      0.91      1553\n",
      "           1       0.63      0.68      0.65       397\n",
      "\n",
      "    accuracy                           0.85      1950\n",
      "   macro avg       0.77      0.79      0.78      1950\n",
      "weighted avg       0.86      0.85      0.85      1950\n",
      "\n"
     ]
    }
   ],
   "source": [
    "print(classification_report(y_test,model_y_preds))"
   ]
  },
  {
   "cell_type": "code",
   "execution_count": 60,
   "id": "4a2c43df",
   "metadata": {},
   "outputs": [],
   "source": [
    "model_scores={'Logistic Regression':lr.score(X_test,y_test),\n",
    "             'KNN':knn.score(X_test,y_test),\n",
    "             'Random Forest':rf.score(X_test,y_test),\n",
    "             'LightGBM':model.score(X_test,y_test)}"
   ]
  },
  {
   "cell_type": "code",
   "execution_count": 61,
   "id": "526665c7",
   "metadata": {},
   "outputs": [
    {
     "data": {
      "text/plain": [
       "{'Logistic Regression': 0.7266666666666667,\n",
       " 'KNN': 0.7148717948717949,\n",
       " 'Random Forest': 0.8697435897435898,\n",
       " 'LightGBM': 0.8517948717948718}"
      ]
     },
     "execution_count": 61,
     "metadata": {},
     "output_type": "execute_result"
    }
   ],
   "source": [
    "model_scores"
   ]
  },
  {
   "cell_type": "code",
   "execution_count": null,
   "id": "c41feed9",
   "metadata": {},
   "outputs": [],
   "source": []
  }
 ],
 "metadata": {
  "kernelspec": {
   "display_name": "Python 3",
   "language": "python",
   "name": "python3"
  },
  "language_info": {
   "codemirror_mode": {
    "name": "ipython",
    "version": 3
   },
   "file_extension": ".py",
   "mimetype": "text/x-python",
   "name": "python",
   "nbconvert_exporter": "python",
   "pygments_lexer": "ipython3",
   "version": "3.8.10"
  }
 },
 "nbformat": 4,
 "nbformat_minor": 5
}
